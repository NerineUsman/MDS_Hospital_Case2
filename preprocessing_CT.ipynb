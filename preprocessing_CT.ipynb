{
 "cells": [
  {
   "cell_type": "markdown",
   "metadata": {},
   "source": [
    "# Preprocessing"
   ]
  },
  {
   "cell_type": "markdown",
   "metadata": {},
   "source": [
    "First, we import all the modules (and functions) required."
   ]
  },
  {
   "cell_type": "code",
   "execution_count": 5,
   "metadata": {
    "collapsed": false
   },
   "outputs": [],
   "source": [
    "import os\n",
    "import numpy as np\n",
    "from matplotlib import pyplot as plt\n",
    "import importlib\n",
    "\n",
    "from os.path import dirname, join\n",
    "from pprint import pprint\n",
    "\n",
    "import pydicom\n",
    "from pydicom.data import get_testdata_files\n",
    "from pydicom.filereader import read_dicomdir\n",
    "\n",
    "import aux_preprocessing as aux"
   ]
  },
  {
   "cell_type": "markdown",
   "metadata": {},
   "source": [
    "## Understanding the data"
   ]
  },
  {
   "cell_type": "markdown",
   "metadata": {},
   "source": [
    "Thorax_Abdomen contains the data collected during 7 weeks, and it is organized as:\n",
    " * Data (Thorax_Abdomen)\n",
    "     * Week (week1, week2, etc.)\n",
    "         * Scan ('E864M5E16Q', etc.)\n",
    "             * Series (\n",
    "                 - Slice"
   ]
  },
  {
   "cell_type": "markdown",
   "metadata": {},
   "source": [
    "All the data for a single week can be retrieved as follows:"
   ]
  },
  {
   "cell_type": "code",
   "execution_count": 120,
   "metadata": {
    "collapsed": false
   },
   "outputs": [],
   "source": [
    "week1data = aux._getstudies(\"Thorax_Abdomen/week1/DICOMDIR\")"
   ]
  },
  {
   "cell_type": "markdown",
   "metadata": {},
   "source": [
    "Each week contains several CT scans that are identified by a string, such as 'E864M5E1BQ'. These strings are the keys of the dictionary we just created:"
   ]
  },
  {
   "cell_type": "code",
   "execution_count": 122,
   "metadata": {
    "collapsed": false,
    "scrolled": true
   },
   "outputs": [
    {
     "name": "stdout",
     "output_type": "stream",
     "text": [
      "['E864M5E16Q', 'E864M5E19Q', 'E864M5E1BQ', 'E864M5E12Q', 'E864M5E1AP', 'E864M5E1AQ', 'E864M5E17Q', 'E864M5E14Q', 'E864M5E18Q', 'E864M5E13Q', 'E864M5E15Q']\n"
     ]
    }
   ],
   "source": [
    "week1scans = list(week1data.keys())\n",
    "print(week1scans)"
   ]
  },
  {
   "cell_type": "markdown",
   "metadata": {},
   "source": [
    "Each of the CT scans in `week1data` contains all the data in a single-element list. We check that:"
   ]
  },
  {
   "cell_type": "code",
   "execution_count": 123,
   "metadata": {
    "collapsed": false
   },
   "outputs": [
    {
     "name": "stdout",
     "output_type": "stream",
     "text": [
      "Everything ok!\n"
     ]
    }
   ],
   "source": [
    "importlib.reload(aux)\n",
    "\n",
    "aux.check_len1(week1data)"
   ]
  },
  {
   "cell_type": "markdown",
   "metadata": {},
   "source": [
    "Now, we keep a single scan, which corresponds to the data of this single-element list. It corresponds to a dictionary of series, which are identified by an integer:"
   ]
  },
  {
   "cell_type": "code",
   "execution_count": 137,
   "metadata": {
    "collapsed": false
   },
   "outputs": [
    {
     "data": {
      "text/plain": [
       "dict_keys([8])"
      ]
     },
     "execution_count": 137,
     "metadata": {},
     "output_type": "execute_result"
    }
   ],
   "source": [
    "allstudies1['E864M5E14Q'][0].keys()\n",
    "\n",
    "scan0 = week1data['E864M5E14Q'][0]\n",
    "scan0.keys()"
   ]
  },
  {
   "cell_type": "code",
   "execution_count": 140,
   "metadata": {
    "collapsed": true
   },
   "outputs": [],
   "source": [
    "scan0series8 = scan0[8]"
   ]
  },
  {
   "cell_type": "markdown",
   "metadata": {},
   "source": [
    "An individual dataset corresponds to an individual slice of the 3D CT scan:"
   ]
  },
  {
   "cell_type": "code",
   "execution_count": 142,
   "metadata": {
    "collapsed": false
   },
   "outputs": [
    {
     "name": "stdout",
     "output_type": "stream",
     "text": [
      "(0008, 0005) Specific Character Set              CS: 'ISO_IR 100'\n",
      "(0008, 0008) Image Type                          CS: ['ORIGINAL', 'PRIMARY', 'AXIAL', 'CT_SOM5 SPI']\n",
      "(0008, 0016) SOP Class UID                       UI: CT Image Storage\n",
      "(0008, 0018) SOP Instance UID                    UI: 1.3.12.2.1107.5.1.4.73231.30000018101512203521200001678\n",
      "(0008, 0020) Study Date                          DA: '20181015'\n",
      "(0008, 0021) Series Date                         DA: '20181015'\n",
      "(0008, 0022) Acquisition Date                    DA: '20181015'\n",
      "(0008, 0023) Content Date                        DA: '20181015'\n",
      "(0008, 002a) Acquisition DateTime                DT: '20181015134849.032000'\n",
      "(0008, 0030) Study Time                          TM: '134018.000000'\n",
      "(0008, 0031) Series Time                         TM: '134921.933000'\n",
      "(0008, 0032) Acquisition Time                    TM: '134849.032000'\n",
      "(0008, 0033) Content Time                        TM: '134849.032000'\n",
      "(0008, 0050) Accession Number                    SH: 'R864M5E14Q'\n",
      "(0008, 0060) Modality                            CS: 'CT'\n",
      "(0008, 0070) Manufacturer                        LO: 'SIEMENS'\n",
      "(0008, 0080) Institution Name                    LO: ''\n",
      "(0008, 0090) Referring Physician's Name          PN: ''\n",
      "(0008, 1010) Station Name                        SH: 'anonymous'\n",
      "(0008, 1030) Study Description                   LO: 'CT Thorax/Abdomen'\n",
      "(0008, 1032)  Procedure Code Sequence   1 item(s) ---- \n",
      "   (0008, 0100) Code Value                          SH: 'C5-05'\n",
      "   (0008, 0102) Coding Scheme Designator            SH: 'SECTRA SLS'\n",
      "   (0008, 0103) Coding Scheme Version               SH: '1.0'\n",
      "   (0008, 0104) Code Meaning                        LO: 'CT Thorax/Abdomen'\n",
      "   ---------\n",
      "(0008, 103e) Series Description                  LO: 'ThorAbd  5.0  I40f  3'\n",
      "(0008, 1070) Operators' Name                     PN: 'anonymous'\n",
      "(0008, 1090) Manufacturer's Model Name           LO: 'SOMATOM Definition Flash'\n",
      "(0008, 1140)  Referenced Image Sequence   1 item(s) ---- \n",
      "   (0008, 1150) Referenced SOP Class UID            UI: CT Image Storage\n",
      "   (0008, 1155) Referenced SOP Instance UID         UI: 1.3.12.2.1107.5.1.4.73231.30000018101512042262400000154\n",
      "   ---------\n",
      "(0008, 2112)  Source Image Sequence   1 item(s) ---- \n",
      "   (0008, 1150) Referenced SOP Class UID            UI: 1.3.12.2.1107.5.9.1\n",
      "   (0008, 1155) Referenced SOP Instance UID         UI: 1.3.12.2.1107.5.1.4.73231.30000018101512025799300000017\n",
      "   ---------\n",
      "(0008, 3010) Irradiation Event UID               UI: 1.3.12.2.1107.5.1.4.73231.30000018101512025799300000017\n",
      "(0010, 0010) Patient's Name                      PN: 'Anonymous Male 1948'\n",
      "(0010, 0020) Patient ID                          LO: 'ANON864M5E14Q'\n",
      "(0010, 0021) Issuer of Patient ID                LO: 'anonymous'\n",
      "(0010, 0030) Patient's Birth Date                DA: ''\n",
      "(0010, 0040) Patient's Sex                       CS: 'M'\n",
      "(0010, 1005) Patient's Birth Name                PN: 'anonymous'\n",
      "(0010, 1010) Patient's Age                       AS: '070Y'\n",
      "(0010, 1060) Patient's Mother's Birth Name       PN: 'anonymous'\n",
      "(0010, 2000) Medical Alerts                      LO: 'anonymous'\n",
      "(0010, 2110) Allergies                           LO: 'anonymous'\n",
      "(0010, 2150) Country of Residence                LO: 'anonymous'\n",
      "(0010, 2152) Region of Residence                 LO: 'anonymous'\n",
      "(0010, 2154) Patient's Telephone Numbers         SH: 'anonymous'\n",
      "(0010, 21a0) Smoking Status                      CS: 'UNKNOWN'\n",
      "(0010, 21c0) Pregnancy Status                    US: 4\n",
      "(0010, 21f0) Patient's Religious Preference      LO: 'anonymous'\n",
      "(0018, 0010) Contrast/Bolus Agent                LO: 'Omnipaque300'\n",
      "(0018, 0015) Body Part Examined                  CS: 'CHEST / ABDOMEN'\n",
      "(0018, 0050) Slice Thickness                     DS: \"5\"\n",
      "(0018, 0060) KVP                                 DS: \"100\"\n",
      "(0018, 0090) Data Collection Diameter            DS: \"500\"\n",
      "(0018, 1000) Device Serial Number                LO: 'anonymous'\n",
      "(0018, 1020) Software Version(s)                 LO: 'syngo CT VA48A'\n",
      "(0018, 1030) Protocol Name                       LO: 'anonymous'\n",
      "(0018, 1041) Contrast/Bolus Volume               DS: \"125\"\n",
      "(0018, 1042) Contrast/Bolus Start Time           TM: '134821.093967'\n",
      "(0018, 1043) Contrast/Bolus Stop Time            TM: '134935.093968'\n",
      "(0018, 1044) Contrast/Bolus Total Dose           DS: \"125\"\n",
      "(0018, 1046) Contrast Flow Rate                  DS: ['3', '2.5']\n",
      "(0018, 1047) Contrast Flow Duration              DS: ['30', '14']\n",
      "(0018, 1049) Contrast/Bolus Ingredient Concentra DS: \"300\"\n",
      "(0018, 1100) Reconstruction Diameter             DS: \"323\"\n",
      "(0018, 1110) Distance Source to Detector         DS: \"1085.6\"\n",
      "(0018, 1111) Distance Source to Patient          DS: \"595\"\n",
      "(0018, 1120) Gantry/Detector Tilt                DS: \"0\"\n",
      "(0018, 1130) Table Height                        DS: \"181\"\n",
      "(0018, 1140) Rotation Direction                  CS: 'CW'\n",
      "(0018, 1150) Exposure Time                       IS: \"500\"\n",
      "(0018, 1151) X-Ray Tube Current                  IS: \"212\"\n",
      "(0018, 1152) Exposure                            IS: \"176\"\n",
      "(0018, 1160) Filter Type                         SH: 'WEDGE_3'\n",
      "(0018, 1170) Generator Power                     IS: \"19\"\n",
      "(0018, 1190) Focal Spot(s)                       DS: \"1.2\"\n",
      "(0018, 1200) Date of Last Calibration            DA: '20181015'\n",
      "(0018, 1201) Time of Last Calibration            TM: '043638.000000'\n",
      "(0018, 1210) Convolution Kernel                  SH: ['I40f', '3']\n",
      "(0018, 5100) Patient Position                    CS: 'FFS'\n",
      "(0018, 9306) Single Collimation Width            FD: 0.6\n",
      "(0018, 9307) Total Collimation Width             FD: 38.4\n",
      "(0018, 9309) Table Speed                         FD: 46.0\n",
      "(0018, 9310) Table Feed per Rotation             FD: 23.0\n",
      "(0018, 9311) Spiral Pitch Factor                 FD: 0.6\n",
      "(0018, 9313) Data Collection Center (Patient)    FD: [0.0, -181.0, 1580.0]\n",
      "(0018, 9318) Reconstruction Target Center (Patie FD: [13.0, -181.0, 1580.0]\n",
      "(0018, 9323) Exposure Modulation Type            CS: 'XYZ_EC'\n",
      "(0018, 9324) Estimated Dose Saving               FD: 60.5511\n",
      "(0018, 9345) CTDIvol                             FD: 7.27693723826087\n",
      "(0018, 9346)  CTDI Phantom Type Code Sequence   1 item(s) ---- \n",
      "   (0008, 0100) Code Value                          SH: '113691'\n",
      "   (0008, 0102) Coding Scheme Designator            SH: 'DCM'\n",
      "   (0008, 0104) Code Meaning                        LO: 'IEC Body Dosimetry Phantom'\n",
      "   ---------\n",
      "(0018, 9352) Calcium Scoring Mass Factor Device  FL: [0.6430000066757202, 0.6710000038146973, 0.6980000138282776]\n",
      "(0020, 000d) Study Instance UID                  UI: 1.2.840.10008.4.907677.20181015120800.253228683\n",
      "(0020, 000e) Series Instance UID                 UI: 1.3.12.2.1107.5.1.4.73231.30000018101512203521200001677\n",
      "(0020, 0010) Study ID                            SH: 'E864M5E14Q'\n",
      "(0020, 0011) Series Number                       IS: \"4\"\n",
      "(0020, 0012) Acquisition Number                  IS: \"14\"\n",
      "(0020, 0013) Instance Number                     IS: \"1\"\n",
      "(0020, 0032) Image Position (Patient)            DS: ['-148.1845703125', '-342.1845703125', '1580']\n",
      "(0020, 0037) Image Orientation (Patient)         DS: ['1', '0', '0', '0', '1', '0']\n",
      "(0020, 0052) Frame of Reference UID              UI: 1.3.12.2.1107.5.1.4.73231.30000018101512025799300000011\n",
      "(0020, 1040) Position Reference Indicator        LO: ''\n",
      "(0020, 1041) Slice Location                      DS: \"-1580\"\n",
      "(0028, 0002) Samples per Pixel                   US: 1\n",
      "(0028, 0004) Photometric Interpretation          CS: 'MONOCHROME2'\n",
      "(0028, 0010) Rows                                US: 512\n",
      "(0028, 0011) Columns                             US: 512\n",
      "(0028, 0030) Pixel Spacing                       DS: ['0.630859375', '0.630859375']\n",
      "(0028, 0100) Bits Allocated                      US: 16\n",
      "(0028, 0101) Bits Stored                         US: 12\n",
      "(0028, 0102) High Bit                            US: 11\n",
      "(0028, 0103) Pixel Representation                US: 0\n",
      "(0028, 0106) Smallest Image Pixel Value          US: 0\n",
      "(0028, 0107) Largest Image Pixel Value           US: 3706\n",
      "(0028, 1050) Window Center                       DS: ['60', '-500']\n",
      "(0028, 1051) Window Width                        DS: ['375', '1500']\n",
      "(0028, 1052) Rescale Intercept                   DS: \"-1024\"\n",
      "(0028, 1053) Rescale Slope                       DS: \"1\"\n",
      "(0028, 1054) Rescale Type                        LO: 'HU'\n",
      "(0028, 1055) Window Center & Width Explanation   LO: ['WINDOW1', 'WINDOW2']\n",
      "(0029, 0010) Private Creator                     LO: 'SIEMENS CSA HEADER'\n",
      "(0029, 0011) Private Creator                     LO: 'SIEMENS MEDCOM HEADER'\n",
      "(0032, 1032) Requesting Physician                PN: 'Bink^Maaike.H.C.'\n",
      "(0032, 1060) Requested Procedure Description     LO: 'CT Thorax/Abdomen'\n",
      "(0032, 1064)  Requested Procedure Code Sequence   1 item(s) ---- \n",
      "   (0008, 0100) Code Value                          SH: 'C5-05'\n",
      "   (0008, 0102) Coding Scheme Designator            SH: 'SECTRA SLS'\n",
      "   (0008, 0103) Coding Scheme Version               SH: '1.0'\n",
      "   (0008, 0104) Code Meaning                        LO: 'CT Thorax/Abdomen'\n",
      "   ---------\n",
      "(0040, 0253) Performed Procedure Step ID         SH: 'E864M5E14Q'\n",
      "(0040, 1001) Requested Procedure ID              SH: 'E864M5E14Q'\n",
      "(7fe0, 0010) Pixel Data                          OW: Array of 524288 bytes\n"
     ]
    }
   ],
   "source": [
    "slice0 = scan0series8[0]\n",
    "print(slice0)"
   ]
  },
  {
   "cell_type": "markdown",
   "metadata": {},
   "source": [
    "Each individual slice contains a large amount of features (corresponding to tags in the DICOM nomenclature). We have to perform a feature analysis in order to determine the relevant variables and how to preprocess them before using them as inputs for our model."
   ]
  },
  {
   "cell_type": "markdown",
   "metadata": {},
   "source": [
    "## Feature analysis"
   ]
  },
  {
   "cell_type": "markdown",
   "metadata": {},
   "source": [
    "Regarding the features found in each slice:\n",
    " - The dates and times should not be correlated with the dose (note that for the PET failure analysis this can be relevant), but they might be correlated with the date and time of calibration, so we include all of them. \n",
    " - The machine is always the same, so the modality (CT), manufacturer, station name, etc. are not considered. \n",
    " - The name, ID, and date of birth of the patient are not relevant either (the age is considered though).\n",
    " - Medical alerts, allergies, country/region of residence are anonymous.\n",
    " - Smoking/pregnancy status are usually unknown/not relevant, but we are keeping them for now.\n",
    " - Descriptions of the experiment are not considered ('SeriesDescription' and 'StudyDescription').\n",
    " \n",
    "The following will be the ones that we will use in the analysis of the dose (relevant features):"
   ]
  },
  {
   "cell_type": "code",
   "execution_count": 218,
   "metadata": {
    "collapsed": false
   },
   "outputs": [
    {
     "name": "stdout",
     "output_type": "stream",
     "text": [
      "(0008, 0022) Acquisition Date                    DA: '20181015'\n",
      "(0008, 002a) Acquisition DateTime                DT: '20181015134849.032000'\n",
      "(0020, 0012) Acquisition Number                  IS: \"14\"\n",
      "(0008, 0032) Acquisition Time                    TM: '134849.032000'\n",
      "(0028, 0100) Bits Allocated                      US: 16\n",
      "(0028, 0101) Bits Stored                         US: 12\n",
      "(0018, 0015) Body Part Examined                  CS: 'CHEST / ABDOMEN'\n",
      "(0018, 9345) CTDIvol                             FD: 7.27693723826087\n",
      "(0018, 9352) Calcium Scoring Mass Factor Device  FL: [0.6430000066757202, 0.6710000038146973, 0.6980000138282776]\n",
      "(0028, 0011) Columns                             US: 512\n",
      "(0008, 0023) Content Date                        DA: '20181015'\n",
      "(0008, 0033) Content Time                        TM: '134849.032000'\n",
      "(0018, 0010) Contrast/Bolus Agent                LO: 'Omnipaque300'\n",
      "(0018, 1049) Contrast/Bolus Ingredient Concentra DS: \"300\"\n",
      "(0018, 1042) Contrast/Bolus Start Time           TM: '134821.093967'\n",
      "(0018, 1043) Contrast/Bolus Stop Time            TM: '134935.093968'\n",
      "(0018, 1044) Contrast/Bolus Total Dose           DS: \"125\"\n",
      "(0018, 1041) Contrast/Bolus Volume               DS: \"125\"\n",
      "(0018, 1047) Contrast Flow Duration              DS: ['30', '14']\n",
      "(0018, 1046) Contrast Flow Rate                  DS: ['3', '2.5']\n",
      "(0018, 1210) Convolution Kernel                  SH: ['I40f', '3']\n",
      "(0018, 9313) Data Collection Center (Patient)    FD: [0.0, -181.0, 1580.0]\n",
      "(0018, 0090) Data Collection Diameter            DS: \"500\"\n",
      "(0018, 1200) Date of Last Calibration            DA: '20181015'\n",
      "(0018, 1110) Distance Source to Detector         DS: \"1085.6\"\n",
      "(0018, 1111) Distance Source to Patient          DS: \"595\"\n",
      "(0018, 9324) Estimated Dose Saving               FD: 60.5511\n",
      "(0018, 1152) Exposure                            IS: \"176\"\n",
      "(0018, 9323) Exposure Modulation Type            CS: 'XYZ_EC'\n",
      "(0018, 1150) Exposure Time                       IS: \"500\"\n",
      "(0018, 1160) Filter Type                         SH: 'WEDGE_3'\n",
      "(0018, 1190) Focal Spot(s)                       DS: \"1.2\"\n",
      "(0020, 0052) Frame of Reference UID              UI: 1.3.12.2.1107.5.1.4.73231.30000018101512025799300000011\n",
      "(0018, 1120) Gantry/Detector Tilt                DS: \"0\"\n",
      "(0018, 1170) Generator Power                     IS: \"19\"\n",
      "(0028, 0102) High Bit                            US: 11\n",
      "(0020, 0037) Image Orientation (Patient)         DS: ['1', '0', '0', '0', '1', '0']\n",
      "(0020, 0032) Image Position (Patient)            DS: ['-148.1845703125', '-342.1845703125', '1580']\n",
      "(0008, 0008) Image Type                          CS: ['ORIGINAL', 'PRIMARY', 'AXIAL', 'CT_SOM5 SPI']\n",
      "(0020, 0013) Instance Number                     IS: \"1\"\n",
      "(0008, 3010) Irradiation Event UID               UI: 1.3.12.2.1107.5.1.4.73231.30000018101512025799300000017\n",
      "(0018, 0060) KVP                                 DS: \"100\"\n",
      "(0028, 0107) Largest Image Pixel Value           US: 3706\n",
      "(0010, 1010) Patient's Age                       AS: '070Y'\n",
      "(0018, 5100) Patient Position                    CS: 'FFS'\n",
      "(0010, 0040) Patient's Sex                       CS: 'M'\n",
      "(0028, 0004) Photometric Interpretation          CS: 'MONOCHROME2'\n",
      "(7fe0, 0010) Pixel Data                          OW: Array of 524288 bytes\n",
      "(0028, 0103) Pixel Representation                US: 0\n",
      "(0028, 0030) Pixel Spacing                       DS: ['0.630859375', '0.630859375']\n",
      "(0010, 21c0) Pregnancy Status                    US: 4\n",
      "(0008, 1032) Procedure Code Sequence             SQ: <Sequence, length 1>\n",
      "(0018, 1100) Reconstruction Diameter             DS: \"323\"\n",
      "(0018, 9318) Reconstruction Target Center (Patie FD: [13.0, -181.0, 1580.0]\n",
      "(0008, 1140) Referenced Image Sequence           SQ: <Sequence, length 1>\n",
      "(0032, 1064) Requested Procedure Code Sequence   SQ: <Sequence, length 1>\n",
      "(0032, 1060) Requested Procedure Description     LO: 'CT Thorax/Abdomen'\n",
      "(0028, 1052) Rescale Intercept                   DS: \"-1024\"\n",
      "(0028, 1053) Rescale Slope                       DS: \"1\"\n",
      "(0028, 1054) Rescale Type                        LO: 'HU'\n",
      "(0018, 1140) Rotation Direction                  CS: 'CW'\n",
      "(0028, 0010) Rows                                US: 512\n",
      "(0008, 0016) SOP Class UID                       UI: CT Image Storage\n",
      "(0008, 0018) SOP Instance UID                    UI: 1.3.12.2.1107.5.1.4.73231.30000018101512203521200001678\n",
      "(0028, 0002) Samples per Pixel                   US: 1\n",
      "(0008, 0021) Series Date                         DA: '20181015'\n",
      "(0020, 000e) Series Instance UID                 UI: 1.3.12.2.1107.5.1.4.73231.30000018101512203521200001677\n",
      "(0020, 0011) Series Number                       IS: \"4\"\n",
      "(0008, 0031) Series Time                         TM: '134921.933000'\n",
      "(0018, 9306) Single Collimation Width            FD: 0.6\n",
      "(0020, 1041) Slice Location                      DS: \"-1580\"\n",
      "(0018, 0050) Slice Thickness                     DS: \"5\"\n",
      "(0028, 0106) Smallest Image Pixel Value          US: 0\n",
      "(0010, 21a0) Smoking Status                      CS: 'UNKNOWN'\n",
      "(0018, 1020) Software Version(s)                 LO: 'syngo CT VA48A'\n",
      "(0008, 2112) Source Image Sequence               SQ: <Sequence, length 1>\n",
      "(0008, 0005) Specific Character Set              CS: 'ISO_IR 100'\n",
      "(0018, 9311) Spiral Pitch Factor                 FD: 0.6\n",
      "(0008, 0020) Study Date                          DA: '20181015'\n",
      "(0020, 000d) Study Instance UID                  UI: 1.2.840.10008.4.907677.20181015120800.253228683\n",
      "(0008, 0030) Study Time                          TM: '134018.000000'\n",
      "(0018, 9310) Table Feed per Rotation             FD: 23.0\n",
      "(0018, 1130) Table Height                        DS: \"181\"\n",
      "(0018, 9309) Table Speed                         FD: 46.0\n",
      "(0018, 1201) Time of Last Calibration            TM: '043638.000000'\n",
      "(0018, 9307) Total Collimation Width             FD: 38.4\n",
      "(0028, 1050) Window Center                       DS: ['60', '-500']\n",
      "(0028, 1055) Window Center & Width Explanation   LO: ['WINDOW1', 'WINDOW2']\n",
      "(0028, 1051) Window Width                        DS: ['375', '1500']\n",
      "(0018, 1151) X-Ray Tube Current                  IS: \"212\"\n"
     ]
    }
   ],
   "source": [
    "relev_feats = ['AcquisitionDate',\n",
    " 'AcquisitionDateTime',\n",
    " 'AcquisitionNumber',\n",
    " 'AcquisitionTime',\n",
    " 'BitsAllocated',\n",
    " 'BitsStored',\n",
    " 'BodyPartExamined',\n",
    "# 'CTDIPhantomTypeCodeSequence',\n",
    " 'CTDIvol',\n",
    " 'CalciumScoringMassFactorDevice',\n",
    " 'Columns',\n",
    " 'ContentDate',\n",
    " 'ContentTime',\n",
    " 'ContrastBolusAgent',\n",
    " 'ContrastBolusIngredientConcentration',\n",
    " 'ContrastBolusStartTime',\n",
    " 'ContrastBolusStopTime',\n",
    " 'ContrastBolusTotalDose',\n",
    " 'ContrastBolusVolume',\n",
    " 'ContrastFlowDuration',\n",
    " 'ContrastFlowRate',\n",
    " 'ConvolutionKernel',\n",
    " 'DataCollectionCenterPatient',\n",
    " 'DataCollectionDiameter',\n",
    " 'DateOfLastCalibration',\n",
    " 'DistanceSourceToDetector',\n",
    " 'DistanceSourceToPatient',\n",
    " 'EstimatedDoseSaving',\n",
    " 'Exposure',\n",
    " 'ExposureModulationType',\n",
    " 'ExposureTime',\n",
    " 'FilterType',\n",
    " 'FocalSpots',\n",
    " 'FrameOfReferenceUID',\n",
    " 'GantryDetectorTilt',\n",
    " 'GeneratorPower',\n",
    " 'HighBit',\n",
    " 'ImageOrientationPatient',\n",
    " 'ImagePositionPatient',\n",
    " 'ImageType',\n",
    " 'InstanceNumber',\n",
    " 'IrradiationEventUID',\n",
    " 'KVP',\n",
    " 'LargestImagePixelValue',\n",
    " 'PatientAge',\n",
    " 'PatientPosition',\n",
    " 'PatientSex',\n",
    " 'PhotometricInterpretation',\n",
    " 'PixelData',\n",
    " 'PixelRepresentation',\n",
    " 'PixelSpacing',\n",
    "# 'PositionReferenceIndicator',\n",
    " 'PregnancyStatus',\n",
    " 'ProcedureCodeSequence',\n",
    " 'ReconstructionDiameter',\n",
    " 'ReconstructionTargetCenterPatient',\n",
    " 'ReferencedImageSequence',\n",
    " 'RequestedProcedureCodeSequence',\n",
    " 'RequestedProcedureDescription',\n",
    " 'RescaleIntercept',\n",
    " 'RescaleSlope',\n",
    " 'RescaleType',\n",
    " 'RotationDirection',\n",
    " 'Rows',\n",
    " 'SOPClassUID',\n",
    " 'SOPInstanceUID',\n",
    " 'SamplesPerPixel',\n",
    " 'SeriesDate',\n",
    " 'SeriesInstanceUID',\n",
    " 'SeriesNumber',\n",
    " 'SeriesTime',\n",
    " 'SingleCollimationWidth',\n",
    " 'SliceLocation',\n",
    " 'SliceThickness',\n",
    " 'SmallestImagePixelValue',\n",
    " 'SmokingStatus',\n",
    " 'SoftwareVersions',\n",
    " 'SourceImageSequence',\n",
    " 'SpecificCharacterSet',\n",
    " 'SpiralPitchFactor',\n",
    " 'StudyDate',\n",
    " 'StudyInstanceUID',\n",
    " 'StudyTime',\n",
    " 'TableFeedPerRotation',\n",
    " 'TableHeight',\n",
    " 'TableSpeed',\n",
    " 'TimeOfLastCalibration',\n",
    " 'TotalCollimationWidth',\n",
    " 'WindowCenter',\n",
    " 'WindowCenterWidthExplanation',\n",
    " 'WindowWidth',\n",
    " 'XRayTubeCurrent']\n",
    "\n",
    "# One can access to these variables using allstudies1['E864M5E14Q'][0][8][0].dir() or using:\n",
    "for charac in rel_vars:\n",
    "    print(slice0.data_element(charac))"
   ]
  },
  {
   "cell_type": "markdown",
   "metadata": {},
   "source": [
    "Features are tagged with a VR (Value Representation), which specifies the format of the feature (float, int, string, etc.). The list of different VR present in the data is:"
   ]
  },
  {
   "cell_type": "code",
   "execution_count": 212,
   "metadata": {
    "collapsed": false
   },
   "outputs": [
    {
     "data": {
      "text/plain": [
       "{'AS',\n",
       " 'CS',\n",
       " 'DA',\n",
       " 'DS',\n",
       " 'DT',\n",
       " 'FD',\n",
       " 'FL',\n",
       " 'IS',\n",
       " 'LO',\n",
       " 'OW',\n",
       " 'SH',\n",
       " 'SQ',\n",
       " 'TM',\n",
       " 'UI',\n",
       " 'US'}"
      ]
     },
     "execution_count": 212,
     "metadata": {},
     "output_type": "execute_result"
    }
   ],
   "source": [
    "set([slice0.data_element(feat).VR for feat in relev_feats])"
   ]
  },
  {
   "cell_type": "markdown",
   "metadata": {},
   "source": [
    "In each slice there are 6 'types' of data:\n",
    " * Floats: we keep them as floats.\n",
    " * Ints: we keep them as ints but they are considered as floats in the model.\n",
    " * Strings: see Subsection 'String preprocessing'.\n",
    " * Sequences: see Subsection 'Sequence preprocessing'.\n",
    " * Identifiers: see Subsection 'UID preprocessing'.\n",
    " * Image: see Subsection 'Image preprocessing'."
   ]
  },
  {
   "cell_type": "markdown",
   "metadata": {},
   "source": [
    "### String preprocessing"
   ]
  },
  {
   "cell_type": "markdown",
   "metadata": {},
   "source": [
    "The strategy we follow here is to map all the possible values of the features represented by strings to a real space. For example, if a feature can only have values 'yes' and 'no', we cast 'yes' into 1 and 'no' into 0."
   ]
  },
  {
   "cell_type": "markdown",
   "metadata": {},
   "source": [
    "The VR of the features represented by strings are 'CS', 'LO', and 'SH'. We use that to identify which features are strings:"
   ]
  },
  {
   "cell_type": "code",
   "execution_count": 213,
   "metadata": {
    "collapsed": false
   },
   "outputs": [
    {
     "name": "stdout",
     "output_type": "stream",
     "text": [
      "['BodyPartExamined', 'ContrastBolusAgent', 'ConvolutionKernel', 'ExposureModulationType', 'FilterType', 'ImageType', 'PatientPosition', 'PatientSex', 'PhotometricInterpretation', 'RequestedProcedureDescription', 'RescaleType', 'RotationDirection', 'SmokingStatus', 'SoftwareVersions', 'SpecificCharacterSet', 'WindowCenterWidthExplanation']\n"
     ]
    }
   ],
   "source": [
    "str_feats = []\n",
    "for feat in relev_feats:\n",
    "    if (slice0.data_element(feat).VR == 'CS') or (slice0.data_element(feat).VR == 'LO') or (slice0.data_element(feat).VR == 'SH'):\n",
    "        str_feats.append(feat)\n",
    "print(str_feats)"
   ]
  },
  {
   "cell_type": "markdown",
   "metadata": {},
   "source": [
    "To map strings to scalar values, we first need to check how many possible different values they can take."
   ]
  },
  {
   "cell_type": "code",
   "execution_count": 177,
   "metadata": {
    "collapsed": true
   },
   "outputs": [],
   "source": [
    "week1data = aux._getstudies(\"Thorax_Abdomen/week1/DICOMDIR\")\n",
    "week2data = aux._getstudies(\"Thorax_Abdomen/week2/DICOMDIR\")\n",
    "week3data = aux._getstudies(\"Thorax_Abdomen/week3/DICOMDIR\")\n",
    "week4data = aux._getstudies(\"Thorax_Abdomen/week4/DICOMDIR\")\n",
    "week5data = aux._getstudies(\"Thorax_Abdomen/week5/DICOMDIR\")\n",
    "week6data = aux._getstudies(\"Thorax_Abdomen/week6/DICOMDIR\")\n",
    "week7data = aux._getstudies(\"Thorax_Abdomen/week7/DICOMDIR\")"
   ]
  },
  {
   "cell_type": "code",
   "execution_count": 178,
   "metadata": {
    "collapsed": true
   },
   "outputs": [],
   "source": [
    "week22data = aux._getstudies(\"Thorax_Abdomen/week2_2/DICOMDIR\")\n",
    "week23data = aux._getstudies(\"Thorax_Abdomen/week2_3/DICOMDIR\")\n",
    "week24data = aux._getstudies(\"Thorax_Abdomen/week2_4/DICOMDIR\")\n",
    "week25data = aux._getstudies(\"Thorax_Abdomen/week2_5/DICOMDIR\")\n",
    "week32data = aux._getstudies(\"Thorax_Abdomen/week3_2/DICOMDIR\")\n",
    "week33data = aux._getstudies(\"Thorax_Abdomen/week3_3/DICOMDIR\")\n",
    "week72data = aux._getstudies(\"Thorax_Abdomen/week7_2/DICOMDIR\")"
   ]
  },
  {
   "cell_type": "code",
   "execution_count": 198,
   "metadata": {
    "collapsed": true
   },
   "outputs": [],
   "source": [
    "from tqdm import tqdm"
   ]
  },
  {
   "cell_type": "code",
   "execution_count": 214,
   "metadata": {
    "collapsed": false,
    "scrolled": true
   },
   "outputs": [
    {
     "name": "stderr",
     "output_type": "stream",
     "text": [
      "100%|██████████| 14/14 [00:01<00:00,  9.73it/s]\n"
     ]
    }
   ],
   "source": [
    "str_feats_dict = {} # Dictionary containing all possible values of each string feature\n",
    "for feat in str_feats:\n",
    "    str_feats_dict[feat] = []\n",
    "\n",
    "\n",
    "for week in tqdm([1,2,22,23,24,25,3,32,33,4,5,6,7,72]):\n",
    "    weekname = 'week'+str(week)+'data'\n",
    "    weekdata = eval(weekname)\n",
    "    for scan in list(weekdata.keys()):\n",
    "        for series in list(weekdata[scan][0].keys()):\n",
    "            for slicce in weekdata[scan][0][series]:\n",
    "                for feat in str_feats:\n",
    "                    val = slicce.data_element(feat).value\n",
    "                    if val not in str_feats_dict[feat]:\n",
    "                        str_feats_dict[feat].append(val)"
   ]
  },
  {
   "cell_type": "code",
   "execution_count": 215,
   "metadata": {
    "collapsed": false
   },
   "outputs": [
    {
     "name": "stdout",
     "output_type": "stream",
     "text": [
      "{'BodyPartExamined': ['CHEST / ABDOMEN'], 'ContrastBolusAgent': ['Omnipaque300'], 'ConvolutionKernel': [['I40f', '3'], ['I26f', '3']], 'ExposureModulationType': ['XYZ_EC'], 'FilterType': ['WEDGE_3'], 'ImageType': [['ORIGINAL', 'PRIMARY', 'AXIAL', 'CT_SOM5 SPI']], 'PatientPosition': ['FFS'], 'PatientSex': ['F', 'M'], 'PhotometricInterpretation': ['MONOCHROME2'], 'RequestedProcedureDescription': ['CT Thorax/Abdomen'], 'RescaleType': ['HU'], 'RotationDirection': ['CW'], 'SmokingStatus': ['UNKNOWN'], 'SoftwareVersions': ['syngo CT VA48A'], 'SpecificCharacterSet': ['ISO_IR 100'], 'WindowCenterWidthExplanation': [['WINDOW1', 'WINDOW2']]}\n"
     ]
    }
   ],
   "source": [
    "print(str_feats_dict)"
   ]
  },
  {
   "cell_type": "markdown",
   "metadata": {},
   "source": [
    "Most of the string features always have the same value. Therefore, we remove them from the relevant features list:"
   ]
  },
  {
   "cell_type": "code",
   "execution_count": 219,
   "metadata": {
    "collapsed": false
   },
   "outputs": [
    {
     "name": "stdout",
     "output_type": "stream",
     "text": [
      "<<BodyPartExamined>> removed.\n",
      "<<ContrastBolusAgent>> removed.\n",
      "<<ExposureModulationType>> removed.\n",
      "<<FilterType>> removed.\n",
      "<<ImageType>> removed.\n",
      "<<PatientPosition>> removed.\n",
      "<<PhotometricInterpretation>> removed.\n",
      "<<RequestedProcedureDescription>> removed.\n",
      "<<RescaleType>> removed.\n",
      "<<RotationDirection>> removed.\n",
      "<<SmokingStatus>> removed.\n",
      "<<SoftwareVersions>> removed.\n",
      "<<SpecificCharacterSet>> removed.\n",
      "<<WindowCenterWidthExplanation>> removed.\n"
     ]
    }
   ],
   "source": [
    "relev_str_feats = []\n",
    "\n",
    "for feat in str_feats:\n",
    "    if len(str_feats_dict[feat])==1:\n",
    "        relev_feats.remove(feat)\n",
    "        print('<<'+feat+'>> removed.')\n",
    "    else:\n",
    "        relev_str_feats.append(feat)"
   ]
  },
  {
   "cell_type": "code",
   "execution_count": 220,
   "metadata": {
    "collapsed": false
   },
   "outputs": [
    {
     "name": "stdout",
     "output_type": "stream",
     "text": [
      "['ConvolutionKernel', 'PatientSex']\n"
     ]
    }
   ],
   "source": [
    "print(relev_str_feats)"
   ]
  },
  {
   "cell_type": "markdown",
   "metadata": {},
   "source": [
    "The only remaining string features are: \n",
    " - 'ConvolutionKernel': it takes two different values in the whole data set: ( `['I40f', '3']` , `['I26f', '3']` ). We map them to (0,1).\n",
    " - 'PatientSex': it takes two different values in the whole data set: ( `'F'` , `'M'` ). We map them to (0,1).\n",
    "This is implemented in `aux.get_feature_value()`."
   ]
  },
  {
   "cell_type": "markdown",
   "metadata": {},
   "source": [
    "### Sequence preprocessing"
   ]
  },
  {
   "cell_type": "code",
   "execution_count": null,
   "metadata": {
    "collapsed": false
   },
   "outputs": [],
   "source": []
  },
  {
   "cell_type": "code",
   "execution_count": null,
   "metadata": {
    "collapsed": true
   },
   "outputs": [],
   "source": []
  },
  {
   "cell_type": "code",
   "execution_count": null,
   "metadata": {
    "collapsed": true
   },
   "outputs": [],
   "source": []
  },
  {
   "cell_type": "code",
   "execution_count": 92,
   "metadata": {
    "collapsed": false
   },
   "outputs": [],
   "source": [
    "importlib.reload(aux)\n",
    "\n",
    "aux.get_charac(allstudies1['E864M5E14Q'][0][8][0],'PixelData')"
   ]
  },
  {
   "cell_type": "code",
   "execution_count": 192,
   "metadata": {
    "collapsed": false
   },
   "outputs": [
    {
     "data": {
      "text/plain": [
       "'M'"
      ]
     },
     "execution_count": 192,
     "metadata": {},
     "output_type": "execute_result"
    }
   ],
   "source": [
    "slice0.data_element('PatientSex').value"
   ]
  },
  {
   "cell_type": "code",
   "execution_count": 152,
   "metadata": {
    "collapsed": false
   },
   "outputs": [
    {
     "data": {
      "text/plain": [
       "(0008, 0100) Code Value                          SH: 'C5-05'\n",
       "(0008, 0102) Coding Scheme Designator            SH: 'SECTRA SLS'\n",
       "(0008, 0103) Coding Scheme Version               SH: '1.0'\n",
       "(0008, 0104) Code Meaning                        LO: 'CT Thorax/Abdomen'"
      ]
     },
     "execution_count": 152,
     "metadata": {},
     "output_type": "execute_result"
    }
   ],
   "source": [
    "allstudies1['E864M5E14Q'][0][8][0].data_element('RequestedProcedureCodeSequence')[0]"
   ]
  },
  {
   "cell_type": "code",
   "execution_count": 113,
   "metadata": {
    "collapsed": false
   },
   "outputs": [
    {
     "data": {
      "text/plain": [
       "(0008, 0100) Code Value                          SH: 'C5-05'"
      ]
     },
     "execution_count": 113,
     "metadata": {},
     "output_type": "execute_result"
    }
   ],
   "source": [
    "a[0].data_element('CodeValue')"
   ]
  },
  {
   "cell_type": "code",
   "execution_count": null,
   "metadata": {
    "collapsed": false
   },
   "outputs": [],
   "source": []
  },
  {
   "cell_type": "code",
   "execution_count": null,
   "metadata": {
    "collapsed": false
   },
   "outputs": [],
   "source": []
  },
  {
   "cell_type": "code",
   "execution_count": null,
   "metadata": {
    "collapsed": true
   },
   "outputs": [],
   "source": []
  },
  {
   "cell_type": "markdown",
   "metadata": {},
   "source": [
    "## References"
   ]
  },
  {
   "cell_type": "markdown",
   "metadata": {},
   "source": [
    "DICOM tags: https://www.dicomlibrary.com/dicom/dicom-tags/\n",
    "\n",
    "DICOM UIDs: http://dicom.nema.org/dicom/2013/output/chtml/part05/chapter_9.html\n",
    "\n",
    "How to read DICOM files in Python: https://mscipio.github.io/post/read_dicom_files_in_python/\n",
    "\n",
    "General DICOM reference: https://www.dicomstandard.org/current/\n",
    "\n",
    "DICOM tags formats: http://dicom.nema.org/medical/dicom/current/output/pdf/part05.pdf"
   ]
  },
  {
   "cell_type": "code",
   "execution_count": null,
   "metadata": {
    "collapsed": true
   },
   "outputs": [],
   "source": []
  }
 ],
 "metadata": {
  "kernelspec": {
   "display_name": "Python 3",
   "language": "python",
   "name": "python3"
  },
  "language_info": {
   "codemirror_mode": {
    "name": "ipython",
    "version": 3
   },
   "file_extension": ".py",
   "mimetype": "text/x-python",
   "name": "python",
   "nbconvert_exporter": "python",
   "pygments_lexer": "ipython3",
   "version": "3.6.0"
  }
 },
 "nbformat": 4,
 "nbformat_minor": 2
}
