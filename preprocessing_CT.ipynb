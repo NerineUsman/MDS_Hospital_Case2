{
 "cells": [
  {
   "cell_type": "markdown",
   "metadata": {},
   "source": [
    "# Preprocessing"
   ]
  },
  {
   "cell_type": "markdown",
   "metadata": {},
   "source": [
    "First, we import all the modules, functions, and data required."
   ]
  },
  {
   "cell_type": "code",
   "execution_count": 1,
   "metadata": {},
   "outputs": [],
   "source": [
    "import os\n",
    "import numpy as np\n",
    "from matplotlib import pyplot as plt\n",
    "import importlib\n",
    "from tqdm import tqdm\n",
    "import pickle\n",
    "\n",
    "from os.path import dirname, join\n",
    "from pprint import pprint\n",
    "\n",
    "import pydicom\n",
    "from pydicom.data import get_testdata_files\n",
    "from pydicom.filereader import read_dicomdir\n",
    "\n",
    "import aux_preprocessing as aux"
   ]
  },
  {
   "cell_type": "code",
   "execution_count": 2,
   "metadata": {},
   "outputs": [],
   "source": [
    "week1data = aux._getstudies(\"Thorax_Abdomen/week1/DICOMDIR\")\n",
    "week2data = aux._getstudies(\"Thorax_Abdomen/week2/DICOMDIR\")\n",
    "week3data = aux._getstudies(\"Thorax_Abdomen/week3/DICOMDIR\")\n",
    "week4data = aux._getstudies(\"Thorax_Abdomen/week4/DICOMDIR\")\n",
    "week5data = aux._getstudies(\"Thorax_Abdomen/week5/DICOMDIR\")\n",
    "week6data = aux._getstudies(\"Thorax_Abdomen/week6/DICOMDIR\")\n",
    "week7data = aux._getstudies(\"Thorax_Abdomen/week7/DICOMDIR\")"
   ]
  },
  {
   "cell_type": "code",
   "execution_count": 3,
   "metadata": {},
   "outputs": [],
   "source": [
    "week22data = aux._getstudies(\"Thorax_Abdomen/week2_2/DICOMDIR\")\n",
    "week23data = aux._getstudies(\"Thorax_Abdomen/week2_3/DICOMDIR\")\n",
    "week24data = aux._getstudies(\"Thorax_Abdomen/week2_4/DICOMDIR\")\n",
    "week25data = aux._getstudies(\"Thorax_Abdomen/week2_5/DICOMDIR\")\n",
    "week32data = aux._getstudies(\"Thorax_Abdomen/week3_2/DICOMDIR\")\n",
    "week33data = aux._getstudies(\"Thorax_Abdomen/week3_3/DICOMDIR\")\n",
    "week72data = aux._getstudies(\"Thorax_Abdomen/week7_2/DICOMDIR\")"
   ]
  },
  {
   "cell_type": "markdown",
   "metadata": {},
   "source": [
    "## Understanding the data"
   ]
  },
  {
   "cell_type": "markdown",
   "metadata": {},
   "source": [
    "Thorax_Abdomen contains the data collected during 7 weeks, and it is organized as:\n",
    " * Data (Thorax_Abdomen)\n",
    "     * Week (week1, week2, etc.)\n",
    "         * Scan ('E864M5E16Q', etc.)\n",
    "             * Series\n",
    "                 - Slice"
   ]
  },
  {
   "cell_type": "markdown",
   "metadata": {},
   "source": [
    "All the data for a single week can be retrieved as follows:"
   ]
  },
  {
   "cell_type": "code",
   "execution_count": 4,
   "metadata": {},
   "outputs": [],
   "source": [
    "#week1data = aux._getstudies(\"Thorax_Abdomen/week1/DICOMDIR\")"
   ]
  },
  {
   "cell_type": "markdown",
   "metadata": {},
   "source": [
    "Each week contains several CT scans that are identified by a string, such as 'E864M5E1BQ'. These strings are the keys of the dictionary we just created:"
   ]
  },
  {
   "cell_type": "code",
   "execution_count": 5,
   "metadata": {
    "scrolled": true
   },
   "outputs": [
    {
     "name": "stdout",
     "output_type": "stream",
     "text": [
      "['E864M5E16Q', 'E864M5E19Q', 'E864M5E1BQ', 'E864M5E12Q', 'E864M5E1AP', 'E864M5E1AQ', 'E864M5E17Q', 'E864M5E14Q', 'E864M5E18Q', 'E864M5E13Q', 'E864M5E15Q']\n"
     ]
    }
   ],
   "source": [
    "week1scans = list(week1data.keys())\n",
    "print(week1scans)"
   ]
  },
  {
   "cell_type": "markdown",
   "metadata": {},
   "source": [
    "Each of the CT scans in `week1data` contains all the data in a single-element list. We check that:"
   ]
  },
  {
   "cell_type": "code",
   "execution_count": 6,
   "metadata": {},
   "outputs": [
    {
     "name": "stdout",
     "output_type": "stream",
     "text": [
      "Everything ok!\n"
     ]
    }
   ],
   "source": [
    "importlib.reload(aux)\n",
    "\n",
    "aux.check_len1(week1data)"
   ]
  },
  {
   "cell_type": "markdown",
   "metadata": {},
   "source": [
    "Now, we keep a single scan, which corresponds to the data of this single-element list. It corresponds to a dictionary of series, which are identified by an integer:"
   ]
  },
  {
   "cell_type": "code",
   "execution_count": 7,
   "metadata": {},
   "outputs": [
    {
     "data": {
      "text/plain": [
       "dict_keys([8])"
      ]
     },
     "execution_count": 7,
     "metadata": {},
     "output_type": "execute_result"
    }
   ],
   "source": [
    "scan0 = week1data['E864M5E14Q'][0]\n",
    "scan0.keys()"
   ]
  },
  {
   "cell_type": "code",
   "execution_count": 8,
   "metadata": {},
   "outputs": [],
   "source": [
    "scan0series8 = scan0[8]"
   ]
  },
  {
   "cell_type": "markdown",
   "metadata": {},
   "source": [
    "An individual dataset corresponds to an individual slice of the 3D CT scan:"
   ]
  },
  {
   "cell_type": "code",
   "execution_count": 9,
   "metadata": {},
   "outputs": [
    {
     "name": "stdout",
     "output_type": "stream",
     "text": [
      "(0008, 0005) Specific Character Set              CS: 'ISO_IR 100'\n",
      "(0008, 0008) Image Type                          CS: ['ORIGINAL', 'PRIMARY', 'AXIAL', 'CT_SOM5 SPI']\n",
      "(0008, 0016) SOP Class UID                       UI: CT Image Storage\n",
      "(0008, 0018) SOP Instance UID                    UI: 1.3.12.2.1107.5.1.4.73231.30000018101512203521200001678\n",
      "(0008, 0020) Study Date                          DA: '20181015'\n",
      "(0008, 0021) Series Date                         DA: '20181015'\n",
      "(0008, 0022) Acquisition Date                    DA: '20181015'\n",
      "(0008, 0023) Content Date                        DA: '20181015'\n",
      "(0008, 002a) Acquisition DateTime                DT: '20181015134849.032000'\n",
      "(0008, 0030) Study Time                          TM: '134018.000000'\n",
      "(0008, 0031) Series Time                         TM: '134921.933000'\n",
      "(0008, 0032) Acquisition Time                    TM: '134849.032000'\n",
      "(0008, 0033) Content Time                        TM: '134849.032000'\n",
      "(0008, 0050) Accession Number                    SH: 'R864M5E14Q'\n",
      "(0008, 0060) Modality                            CS: 'CT'\n",
      "(0008, 0070) Manufacturer                        LO: 'SIEMENS'\n",
      "(0008, 0080) Institution Name                    LO: ''\n",
      "(0008, 0090) Referring Physician's Name          PN: ''\n",
      "(0008, 1010) Station Name                        SH: 'anonymous'\n",
      "(0008, 1030) Study Description                   LO: 'CT Thorax/Abdomen'\n",
      "(0008, 1032)  Procedure Code Sequence   1 item(s) ---- \n",
      "   (0008, 0100) Code Value                          SH: 'C5-05'\n",
      "   (0008, 0102) Coding Scheme Designator            SH: 'SECTRA SLS'\n",
      "   (0008, 0103) Coding Scheme Version               SH: '1.0'\n",
      "   (0008, 0104) Code Meaning                        LO: 'CT Thorax/Abdomen'\n",
      "   ---------\n",
      "(0008, 103e) Series Description                  LO: 'ThorAbd  5.0  I40f  3'\n",
      "(0008, 1070) Operators' Name                     PN: 'anonymous'\n",
      "(0008, 1090) Manufacturer's Model Name           LO: 'SOMATOM Definition Flash'\n",
      "(0008, 1140)  Referenced Image Sequence   1 item(s) ---- \n",
      "   (0008, 1150) Referenced SOP Class UID            UI: CT Image Storage\n",
      "   (0008, 1155) Referenced SOP Instance UID         UI: 1.3.12.2.1107.5.1.4.73231.30000018101512042262400000154\n",
      "   ---------\n",
      "(0008, 2112)  Source Image Sequence   1 item(s) ---- \n",
      "   (0008, 1150) Referenced SOP Class UID            UI: 1.3.12.2.1107.5.9.1\n",
      "   (0008, 1155) Referenced SOP Instance UID         UI: 1.3.12.2.1107.5.1.4.73231.30000018101512025799300000017\n",
      "   ---------\n",
      "(0008, 3010) Irradiation Event UID               UI: 1.3.12.2.1107.5.1.4.73231.30000018101512025799300000017\n",
      "(0010, 0010) Patient's Name                      PN: 'Anonymous Male 1948'\n",
      "(0010, 0020) Patient ID                          LO: 'ANON864M5E14Q'\n",
      "(0010, 0021) Issuer of Patient ID                LO: 'anonymous'\n",
      "(0010, 0030) Patient's Birth Date                DA: ''\n",
      "(0010, 0040) Patient's Sex                       CS: 'M'\n",
      "(0010, 1005) Patient's Birth Name                PN: 'anonymous'\n",
      "(0010, 1010) Patient's Age                       AS: '070Y'\n",
      "(0010, 1060) Patient's Mother's Birth Name       PN: 'anonymous'\n",
      "(0010, 2000) Medical Alerts                      LO: 'anonymous'\n",
      "(0010, 2110) Allergies                           LO: 'anonymous'\n",
      "(0010, 2150) Country of Residence                LO: 'anonymous'\n",
      "(0010, 2152) Region of Residence                 LO: 'anonymous'\n",
      "(0010, 2154) Patient's Telephone Numbers         SH: 'anonymous'\n",
      "(0010, 21a0) Smoking Status                      CS: 'UNKNOWN'\n",
      "(0010, 21c0) Pregnancy Status                    US: 4\n",
      "(0010, 21f0) Patient's Religious Preference      LO: 'anonymous'\n",
      "(0018, 0010) Contrast/Bolus Agent                LO: 'Omnipaque300'\n",
      "(0018, 0015) Body Part Examined                  CS: 'CHEST / ABDOMEN'\n",
      "(0018, 0050) Slice Thickness                     DS: \"5\"\n",
      "(0018, 0060) KVP                                 DS: \"100\"\n",
      "(0018, 0090) Data Collection Diameter            DS: \"500\"\n",
      "(0018, 1000) Device Serial Number                LO: 'anonymous'\n",
      "(0018, 1020) Software Version(s)                 LO: 'syngo CT VA48A'\n",
      "(0018, 1030) Protocol Name                       LO: 'anonymous'\n",
      "(0018, 1041) Contrast/Bolus Volume               DS: \"125\"\n",
      "(0018, 1042) Contrast/Bolus Start Time           TM: '134821.093967'\n",
      "(0018, 1043) Contrast/Bolus Stop Time            TM: '134935.093968'\n",
      "(0018, 1044) Contrast/Bolus Total Dose           DS: \"125\"\n",
      "(0018, 1046) Contrast Flow Rate                  DS: ['3', '2.5']\n",
      "(0018, 1047) Contrast Flow Duration              DS: ['30', '14']\n",
      "(0018, 1049) Contrast/Bolus Ingredient Concentra DS: \"300\"\n",
      "(0018, 1100) Reconstruction Diameter             DS: \"323\"\n",
      "(0018, 1110) Distance Source to Detector         DS: \"1085.6\"\n",
      "(0018, 1111) Distance Source to Patient          DS: \"595\"\n",
      "(0018, 1120) Gantry/Detector Tilt                DS: \"0\"\n",
      "(0018, 1130) Table Height                        DS: \"181\"\n",
      "(0018, 1140) Rotation Direction                  CS: 'CW'\n",
      "(0018, 1150) Exposure Time                       IS: \"500\"\n",
      "(0018, 1151) X-Ray Tube Current                  IS: \"212\"\n",
      "(0018, 1152) Exposure                            IS: \"176\"\n",
      "(0018, 1160) Filter Type                         SH: 'WEDGE_3'\n",
      "(0018, 1170) Generator Power                     IS: \"19\"\n",
      "(0018, 1190) Focal Spot(s)                       DS: \"1.2\"\n",
      "(0018, 1200) Date of Last Calibration            DA: '20181015'\n",
      "(0018, 1201) Time of Last Calibration            TM: '043638.000000'\n",
      "(0018, 1210) Convolution Kernel                  SH: ['I40f', '3']\n",
      "(0018, 5100) Patient Position                    CS: 'FFS'\n",
      "(0018, 9306) Single Collimation Width            FD: 0.6\n",
      "(0018, 9307) Total Collimation Width             FD: 38.4\n",
      "(0018, 9309) Table Speed                         FD: 46.0\n",
      "(0018, 9310) Table Feed per Rotation             FD: 23.0\n",
      "(0018, 9311) Spiral Pitch Factor                 FD: 0.6\n",
      "(0018, 9313) Data Collection Center (Patient)    FD: [0.0, -181.0, 1580.0]\n",
      "(0018, 9318) Reconstruction Target Center (Patie FD: [13.0, -181.0, 1580.0]\n",
      "(0018, 9323) Exposure Modulation Type            CS: 'XYZ_EC'\n",
      "(0018, 9324) Estimated Dose Saving               FD: 60.5511\n",
      "(0018, 9345) CTDIvol                             FD: 7.27693723826087\n",
      "(0018, 9346)  CTDI Phantom Type Code Sequence   1 item(s) ---- \n",
      "   (0008, 0100) Code Value                          SH: '113691'\n",
      "   (0008, 0102) Coding Scheme Designator            SH: 'DCM'\n",
      "   (0008, 0104) Code Meaning                        LO: 'IEC Body Dosimetry Phantom'\n",
      "   ---------\n",
      "(0018, 9352) Calcium Scoring Mass Factor Device  FL: [0.6430000066757202, 0.6710000038146973, 0.6980000138282776]\n",
      "(0020, 000d) Study Instance UID                  UI: 1.2.840.10008.4.907677.20181015120800.253228683\n",
      "(0020, 000e) Series Instance UID                 UI: 1.3.12.2.1107.5.1.4.73231.30000018101512203521200001677\n",
      "(0020, 0010) Study ID                            SH: 'E864M5E14Q'\n",
      "(0020, 0011) Series Number                       IS: \"4\"\n",
      "(0020, 0012) Acquisition Number                  IS: \"14\"\n",
      "(0020, 0013) Instance Number                     IS: \"1\"\n",
      "(0020, 0032) Image Position (Patient)            DS: ['-148.1845703125', '-342.1845703125', '1580']\n",
      "(0020, 0037) Image Orientation (Patient)         DS: ['1', '0', '0', '0', '1', '0']\n",
      "(0020, 0052) Frame of Reference UID              UI: 1.3.12.2.1107.5.1.4.73231.30000018101512025799300000011\n",
      "(0020, 1040) Position Reference Indicator        LO: ''\n",
      "(0020, 1041) Slice Location                      DS: \"-1580\"\n",
      "(0028, 0002) Samples per Pixel                   US: 1\n",
      "(0028, 0004) Photometric Interpretation          CS: 'MONOCHROME2'\n",
      "(0028, 0010) Rows                                US: 512\n",
      "(0028, 0011) Columns                             US: 512\n",
      "(0028, 0030) Pixel Spacing                       DS: ['0.630859375', '0.630859375']\n",
      "(0028, 0100) Bits Allocated                      US: 16\n",
      "(0028, 0101) Bits Stored                         US: 12\n",
      "(0028, 0102) High Bit                            US: 11\n",
      "(0028, 0103) Pixel Representation                US: 0\n",
      "(0028, 0106) Smallest Image Pixel Value          US: 0\n",
      "(0028, 0107) Largest Image Pixel Value           US: 3706\n",
      "(0028, 1050) Window Center                       DS: ['60', '-500']\n",
      "(0028, 1051) Window Width                        DS: ['375', '1500']\n",
      "(0028, 1052) Rescale Intercept                   DS: \"-1024\"\n",
      "(0028, 1053) Rescale Slope                       DS: \"1\"\n",
      "(0028, 1054) Rescale Type                        LO: 'HU'\n",
      "(0028, 1055) Window Center & Width Explanation   LO: ['WINDOW1', 'WINDOW2']\n",
      "(0029, 0010) Private Creator                     LO: 'SIEMENS CSA HEADER'\n",
      "(0029, 0011) Private Creator                     LO: 'SIEMENS MEDCOM HEADER'\n",
      "(0032, 1032) Requesting Physician                PN: 'Bink^Maaike.H.C.'\n",
      "(0032, 1060) Requested Procedure Description     LO: 'CT Thorax/Abdomen'\n",
      "(0032, 1064)  Requested Procedure Code Sequence   1 item(s) ---- \n",
      "   (0008, 0100) Code Value                          SH: 'C5-05'\n",
      "   (0008, 0102) Coding Scheme Designator            SH: 'SECTRA SLS'\n",
      "   (0008, 0103) Coding Scheme Version               SH: '1.0'\n",
      "   (0008, 0104) Code Meaning                        LO: 'CT Thorax/Abdomen'\n",
      "   ---------\n",
      "(0040, 0253) Performed Procedure Step ID         SH: 'E864M5E14Q'\n",
      "(0040, 1001) Requested Procedure ID              SH: 'E864M5E14Q'\n"
     ]
    },
    {
     "name": "stdout",
     "output_type": "stream",
     "text": [
      "(7fe0, 0010) Pixel Data                          OW: Array of 524288 bytes\n"
     ]
    }
   ],
   "source": [
    "slice0 = scan0series8[0]\n",
    "print(slice0)"
   ]
  },
  {
   "cell_type": "code",
   "execution_count": 10,
   "metadata": {},
   "outputs": [
    {
     "name": "stdout",
     "output_type": "stream",
     "text": [
      "[7.27693723826087] [6.178531617391305]\n"
     ]
    }
   ],
   "source": [
    "# Note that the dose is SLICE-DEPENDENT\n",
    "slice100 = scan0series8[100]\n",
    "print(aux.get_feature_value(slice0,'CTDIvol'),aux.get_feature_value(slice100,'CTDIvol'))"
   ]
  },
  {
   "cell_type": "markdown",
   "metadata": {},
   "source": [
    "Each individual slice contains a large amount of features (corresponding to tags in the DICOM nomenclature). We have to perform a feature analysis in order to determine the relevant variables and how to preprocess them before using them as inputs for our model."
   ]
  },
  {
   "cell_type": "markdown",
   "metadata": {},
   "source": [
    "## Feature analysis"
   ]
  },
  {
   "cell_type": "markdown",
   "metadata": {},
   "source": [
    "Regarding the features found in each slice:\n",
    " - The dates and times should not be correlated with the dose (note that for the PET failure analysis this can be relevant), but they might be correlated with the date and time of calibration, so we include all of them. \n",
    " - The machine is always the same, so the modality (CT), manufacturer, station name, etc. are not considered. \n",
    " - The name, ID, and date of birth of the patient are not relevant either (the age is considered though).\n",
    " - Medical alerts, allergies, country/region of residence are anonymous.\n",
    " - Smoking/pregnancy status are usually unknown/not relevant, but we are keeping them for now.\n",
    " - Descriptions of the experiment are not considered ('SeriesDescription' and 'StudyDescription').\n",
    " \n",
    "The following will be the ones that we will use in the analysis of the dose (relevant features):"
   ]
  },
  {
   "cell_type": "code",
   "execution_count": 11,
   "metadata": {
    "scrolled": true
   },
   "outputs": [
    {
     "name": "stdout",
     "output_type": "stream",
     "text": [
      "(0008, 0022) Acquisition Date                    DA: '20181015'\n",
      "(0008, 002a) Acquisition DateTime                DT: '20181015134849.032000'\n",
      "(0020, 0012) Acquisition Number                  IS: \"14\"\n",
      "(0008, 0032) Acquisition Time                    TM: '134849.032000'\n",
      "(0028, 0100) Bits Allocated                      US: 16\n",
      "(0028, 0101) Bits Stored                         US: 12\n",
      "(0018, 0015) Body Part Examined                  CS: 'CHEST / ABDOMEN'\n",
      "(0018, 9345) CTDIvol                             FD: 7.27693723826087\n",
      "(0018, 9352) Calcium Scoring Mass Factor Device  FL: [0.6430000066757202, 0.6710000038146973, 0.6980000138282776]\n",
      "(0028, 0011) Columns                             US: 512\n",
      "(0008, 0023) Content Date                        DA: '20181015'\n",
      "(0008, 0033) Content Time                        TM: '134849.032000'\n",
      "(0018, 0010) Contrast/Bolus Agent                LO: 'Omnipaque300'\n",
      "(0018, 1049) Contrast/Bolus Ingredient Concentra DS: \"300\"\n",
      "(0018, 1042) Contrast/Bolus Start Time           TM: '134821.093967'\n",
      "(0018, 1043) Contrast/Bolus Stop Time            TM: '134935.093968'\n",
      "(0018, 1044) Contrast/Bolus Total Dose           DS: \"125\"\n",
      "(0018, 1041) Contrast/Bolus Volume               DS: \"125\"\n",
      "(0018, 1047) Contrast Flow Duration              DS: ['30', '14']\n",
      "(0018, 1046) Contrast Flow Rate                  DS: ['3', '2.5']\n",
      "(0018, 1210) Convolution Kernel                  SH: ['I40f', '3']\n",
      "(0018, 9313) Data Collection Center (Patient)    FD: [0.0, -181.0, 1580.0]\n",
      "(0018, 0090) Data Collection Diameter            DS: \"500\"\n",
      "(0018, 1200) Date of Last Calibration            DA: '20181015'\n",
      "(0018, 1110) Distance Source to Detector         DS: \"1085.6\"\n",
      "(0018, 1111) Distance Source to Patient          DS: \"595\"\n",
      "(0018, 9324) Estimated Dose Saving               FD: 60.5511\n",
      "(0018, 1152) Exposure                            IS: \"176\"\n",
      "(0018, 9323) Exposure Modulation Type            CS: 'XYZ_EC'\n",
      "(0018, 1150) Exposure Time                       IS: \"500\"\n",
      "(0018, 1160) Filter Type                         SH: 'WEDGE_3'\n",
      "(0018, 1190) Focal Spot(s)                       DS: \"1.2\"\n",
      "(0020, 0052) Frame of Reference UID              UI: 1.3.12.2.1107.5.1.4.73231.30000018101512025799300000011\n",
      "(0018, 1120) Gantry/Detector Tilt                DS: \"0\"\n",
      "(0018, 1170) Generator Power                     IS: \"19\"\n",
      "(0028, 0102) High Bit                            US: 11\n",
      "(0020, 0037) Image Orientation (Patient)         DS: ['1', '0', '0', '0', '1', '0']\n",
      "(0020, 0032) Image Position (Patient)            DS: ['-148.1845703125', '-342.1845703125', '1580']\n",
      "(0008, 0008) Image Type                          CS: ['ORIGINAL', 'PRIMARY', 'AXIAL', 'CT_SOM5 SPI']\n",
      "(0020, 0013) Instance Number                     IS: \"1\"\n",
      "(0008, 3010) Irradiation Event UID               UI: 1.3.12.2.1107.5.1.4.73231.30000018101512025799300000017\n",
      "(0018, 0060) KVP                                 DS: \"100\"\n",
      "(0028, 0107) Largest Image Pixel Value           US: 3706\n",
      "(0010, 1010) Patient's Age                       AS: '070Y'\n",
      "(0018, 5100) Patient Position                    CS: 'FFS'\n",
      "(0010, 0040) Patient's Sex                       CS: 'M'\n",
      "(0028, 0004) Photometric Interpretation          CS: 'MONOCHROME2'\n",
      "(7fe0, 0010) Pixel Data                          OW: Array of 524288 bytes\n",
      "(0028, 0103) Pixel Representation                US: 0\n",
      "(0028, 0030) Pixel Spacing                       DS: ['0.630859375', '0.630859375']\n",
      "(0010, 21c0) Pregnancy Status                    US: 4\n",
      "(0008, 1032) Procedure Code Sequence             SQ: <Sequence, length 1>\n",
      "(0018, 1100) Reconstruction Diameter             DS: \"323\"\n",
      "(0018, 9318) Reconstruction Target Center (Patie FD: [13.0, -181.0, 1580.0]\n",
      "(0008, 1140) Referenced Image Sequence           SQ: <Sequence, length 1>\n",
      "(0032, 1064) Requested Procedure Code Sequence   SQ: <Sequence, length 1>\n",
      "(0032, 1060) Requested Procedure Description     LO: 'CT Thorax/Abdomen'\n",
      "(0028, 1052) Rescale Intercept                   DS: \"-1024\"\n",
      "(0028, 1053) Rescale Slope                       DS: \"1\"\n",
      "(0028, 1054) Rescale Type                        LO: 'HU'\n",
      "(0018, 1140) Rotation Direction                  CS: 'CW'\n",
      "(0028, 0010) Rows                                US: 512\n",
      "(0008, 0016) SOP Class UID                       UI: CT Image Storage\n",
      "(0008, 0018) SOP Instance UID                    UI: 1.3.12.2.1107.5.1.4.73231.30000018101512203521200001678\n",
      "(0028, 0002) Samples per Pixel                   US: 1\n",
      "(0008, 0021) Series Date                         DA: '20181015'\n",
      "(0020, 000e) Series Instance UID                 UI: 1.3.12.2.1107.5.1.4.73231.30000018101512203521200001677\n",
      "(0020, 0011) Series Number                       IS: \"4\"\n",
      "(0008, 0031) Series Time                         TM: '134921.933000'\n",
      "(0018, 9306) Single Collimation Width            FD: 0.6\n",
      "(0020, 1041) Slice Location                      DS: \"-1580\"\n",
      "(0018, 0050) Slice Thickness                     DS: \"5\"\n",
      "(0028, 0106) Smallest Image Pixel Value          US: 0\n",
      "(0010, 21a0) Smoking Status                      CS: 'UNKNOWN'\n",
      "(0018, 1020) Software Version(s)                 LO: 'syngo CT VA48A'\n",
      "(0008, 2112) Source Image Sequence               SQ: <Sequence, length 1>\n",
      "(0008, 0005) Specific Character Set              CS: 'ISO_IR 100'\n",
      "(0018, 9311) Spiral Pitch Factor                 FD: 0.6\n",
      "(0008, 0020) Study Date                          DA: '20181015'\n",
      "(0020, 000d) Study Instance UID                  UI: 1.2.840.10008.4.907677.20181015120800.253228683\n",
      "(0008, 0030) Study Time                          TM: '134018.000000'\n",
      "(0018, 9310) Table Feed per Rotation             FD: 23.0\n",
      "(0018, 1130) Table Height                        DS: \"181\"\n",
      "(0018, 9309) Table Speed                         FD: 46.0\n",
      "(0018, 1201) Time of Last Calibration            TM: '043638.000000'\n",
      "(0018, 9307) Total Collimation Width             FD: 38.4\n",
      "(0028, 1050) Window Center                       DS: ['60', '-500']\n",
      "(0028, 1055) Window Center & Width Explanation   LO: ['WINDOW1', 'WINDOW2']\n",
      "(0028, 1051) Window Width                        DS: ['375', '1500']\n",
      "(0018, 1151) X-Ray Tube Current                  IS: \"212\"\n"
     ]
    }
   ],
   "source": [
    "relev_feats = ['AcquisitionDate',\n",
    " 'AcquisitionDateTime',\n",
    " 'AcquisitionNumber',\n",
    " 'AcquisitionTime',\n",
    " 'BitsAllocated',\n",
    " 'BitsStored',\n",
    " 'BodyPartExamined',\n",
    "# 'CTDIPhantomTypeCodeSequence',\n",
    " 'CTDIvol',\n",
    " 'CalciumScoringMassFactorDevice',\n",
    " 'Columns',\n",
    " 'ContentDate',\n",
    " 'ContentTime',\n",
    " 'ContrastBolusAgent',\n",
    " 'ContrastBolusIngredientConcentration',\n",
    " 'ContrastBolusStartTime',\n",
    " 'ContrastBolusStopTime',\n",
    " 'ContrastBolusTotalDose',\n",
    " 'ContrastBolusVolume',\n",
    " 'ContrastFlowDuration',\n",
    " 'ContrastFlowRate',\n",
    " 'ConvolutionKernel',\n",
    " 'DataCollectionCenterPatient',\n",
    " 'DataCollectionDiameter',\n",
    " 'DateOfLastCalibration',\n",
    " 'DistanceSourceToDetector',\n",
    " 'DistanceSourceToPatient',\n",
    " 'EstimatedDoseSaving',\n",
    " 'Exposure',\n",
    " 'ExposureModulationType',\n",
    " 'ExposureTime',\n",
    " 'FilterType',\n",
    " 'FocalSpots',\n",
    " 'FrameOfReferenceUID',\n",
    " 'GantryDetectorTilt',\n",
    " 'GeneratorPower',\n",
    " 'HighBit',\n",
    " 'ImageOrientationPatient',\n",
    " 'ImagePositionPatient',\n",
    " 'ImageType',\n",
    " 'InstanceNumber',\n",
    " 'IrradiationEventUID',\n",
    " 'KVP',\n",
    " 'LargestImagePixelValue',\n",
    " 'PatientAge',\n",
    " 'PatientPosition',\n",
    " 'PatientSex',\n",
    " 'PhotometricInterpretation',\n",
    " 'PixelData',\n",
    " 'PixelRepresentation',\n",
    " 'PixelSpacing',\n",
    "# 'PositionReferenceIndicator',\n",
    " 'PregnancyStatus',\n",
    " 'ProcedureCodeSequence',\n",
    " 'ReconstructionDiameter',\n",
    " 'ReconstructionTargetCenterPatient',\n",
    " 'ReferencedImageSequence',\n",
    " 'RequestedProcedureCodeSequence',\n",
    " 'RequestedProcedureDescription',\n",
    " 'RescaleIntercept',\n",
    " 'RescaleSlope',\n",
    " 'RescaleType',\n",
    " 'RotationDirection',\n",
    " 'Rows',\n",
    " 'SOPClassUID',\n",
    " 'SOPInstanceUID',\n",
    " 'SamplesPerPixel',\n",
    " 'SeriesDate',\n",
    " 'SeriesInstanceUID',\n",
    " 'SeriesNumber',\n",
    " 'SeriesTime',\n",
    " 'SingleCollimationWidth',\n",
    " 'SliceLocation',\n",
    " 'SliceThickness',\n",
    " 'SmallestImagePixelValue',\n",
    " 'SmokingStatus',\n",
    " 'SoftwareVersions',\n",
    " 'SourceImageSequence',\n",
    " 'SpecificCharacterSet',\n",
    " 'SpiralPitchFactor',\n",
    " 'StudyDate',\n",
    " 'StudyInstanceUID',\n",
    " 'StudyTime',\n",
    " 'TableFeedPerRotation',\n",
    " 'TableHeight',\n",
    " 'TableSpeed',\n",
    " 'TimeOfLastCalibration',\n",
    " 'TotalCollimationWidth',\n",
    " 'WindowCenter',\n",
    " 'WindowCenterWidthExplanation',\n",
    " 'WindowWidth',\n",
    " 'XRayTubeCurrent']\n",
    "\n",
    "# One can access to these variables using week1data['E864M5E14Q'][0][8][0].dir() or using:\n",
    "for charac in relev_feats:\n",
    "    print(slice0.data_element(charac))"
   ]
  },
  {
   "cell_type": "markdown",
   "metadata": {},
   "source": [
    "Patient dose corresponds to 'CTDIvol'. We consider it as our dependent variable. Hence, we remove it from the relevant features:"
   ]
  },
  {
   "cell_type": "code",
   "execution_count": 12,
   "metadata": {},
   "outputs": [
    {
     "name": "stdout",
     "output_type": "stream",
     "text": [
      "<<CTDIvol>> removed.\n"
     ]
    }
   ],
   "source": [
    "feat = 'CTDIvol'\n",
    "relev_feats.remove(feat)\n",
    "print('<<'+feat+'>> removed.')"
   ]
  },
  {
   "cell_type": "markdown",
   "metadata": {},
   "source": [
    "Features are tagged with a VR (Value Representation), which specifies the format of the feature (float, int, string, etc.). The list of different VR present in the data is:"
   ]
  },
  {
   "cell_type": "code",
   "execution_count": 13,
   "metadata": {},
   "outputs": [
    {
     "data": {
      "text/plain": [
       "{'AS',\n",
       " 'CS',\n",
       " 'DA',\n",
       " 'DS',\n",
       " 'DT',\n",
       " 'FD',\n",
       " 'FL',\n",
       " 'IS',\n",
       " 'LO',\n",
       " 'OW',\n",
       " 'SH',\n",
       " 'SQ',\n",
       " 'TM',\n",
       " 'UI',\n",
       " 'US'}"
      ]
     },
     "execution_count": 13,
     "metadata": {},
     "output_type": "execute_result"
    }
   ],
   "source": [
    "set([slice0.data_element(feat).VR for feat in relev_feats])"
   ]
  },
  {
   "cell_type": "markdown",
   "metadata": {},
   "source": [
    "In each slice there are 6 'types' of data:\n",
    " * Floats: we keep them as floats.\n",
    " * Ints: we keep them as ints but they will be considered as floats in the model.\n",
    " * Strings: see Subsection 'String preprocessing'.\n",
    " * Identifiers: see Subsection 'UID preprocessing'.\n",
    " * Sequences: see Subsection 'Sequence preprocessing'.\n",
    " * Image: see Subsection 'Image preprocessing'."
   ]
  },
  {
   "cell_type": "markdown",
   "metadata": {},
   "source": [
    "### Floats and ints preprocessing"
   ]
  },
  {
   "cell_type": "markdown",
   "metadata": {},
   "source": [
    "We must remove those features that always take the same value. In this Subsection, we do that for the numerical features (floats and integers)."
   ]
  },
  {
   "cell_type": "code",
   "execution_count": 56,
   "metadata": {
    "scrolled": true
   },
   "outputs": [
    {
     "name": "stdout",
     "output_type": "stream",
     "text": [
      "['AcquisitionDate', 'AcquisitionTime', 'CalciumScoringMassFactorDevice', 'ContrastBolusStartTime', 'ContrastBolusTotalDose', 'ContrastBolusVolume', 'ContrastFlowDuration', 'ContrastFlowRate', 'DataCollectionCenterPatient', 'DateOfLastCalibration', 'EstimatedDoseSaving', 'Exposure', 'GeneratorPower', 'ImagePositionPatient', 'InstanceNumber', 'KVP', 'LargestImagePixelValue', 'PatientAge', 'ReconstructionDiameter', 'ReconstructionTargetCenterPatient', 'SliceLocation', 'SmallestImagePixelValue', 'TableHeight', 'TimeOfLastCalibration', 'WindowCenter', 'WindowWidth', 'XRayTubeCurrent']\n"
     ]
    }
   ],
   "source": [
    "importlib.reload(aux)\n",
    "\n",
    "numer_feats = []\n",
    "for feat in relev_feats:\n",
    "    if slice0.data_element(feat).VR in ['AS','DA','DS','DT','FD','FL','IS','TM','US']:\n",
    "        numer_feats.append(feat)\n",
    "print(numer_feats)"
   ]
  },
  {
   "cell_type": "markdown",
   "metadata": {},
   "source": [
    "#### 'DA' = dates"
   ]
  },
  {
   "cell_type": "code",
   "execution_count": 15,
   "metadata": {},
   "outputs": [
    {
     "name": "stdout",
     "output_type": "stream",
     "text": [
      "DA AcquisitionDate\n",
      "DA ContentDate\n",
      "DA DateOfLastCalibration\n",
      "DA SeriesDate\n",
      "DA StudyDate\n"
     ]
    }
   ],
   "source": [
    "for feat in numer_feats:\n",
    "    if slice0.data_element(feat).VR=='DA':\n",
    "        print(slice0.data_element(feat).VR,feat)"
   ]
  },
  {
   "cell_type": "markdown",
   "metadata": {},
   "source": [
    "Dates are a special case of feature. All the scans were taken in 2018, so we disregard the year. We use the month $M$ and day $D$ to map the date into an integer between 1 and 360 (approximate day of the year, since all months are considered to have 30 days): $date=30*M+D$. This could be relevant as the machine could perform different in summer and winter."
   ]
  },
  {
   "cell_type": "code",
   "execution_count": 16,
   "metadata": {},
   "outputs": [
    {
     "data": {
      "text/plain": [
       "[315]"
      ]
     },
     "execution_count": 16,
     "metadata": {},
     "output_type": "execute_result"
    }
   ],
   "source": [
    "aux.get_feature_value(slice0,'T')"
   ]
  },
  {
   "cell_type": "markdown",
   "metadata": {},
   "source": [
    "Instead of considering the time of last calibration, it makes more sense to compute the difference in days between the last calibration and the acquisition date. Hence, we map the 'TimeOfLastCalibration' feature into a difference with the 'AcquisitionDate':"
   ]
  },
  {
   "cell_type": "code",
   "execution_count": 17,
   "metadata": {
    "scrolled": true
   },
   "outputs": [
    {
     "name": "stdout",
     "output_type": "stream",
     "text": [
      "(0018, 1200) Date of Last Calibration            DA: '20181015'\n",
      "(0008, 0022) Acquisition Date                    DA: '20181015'\n",
      "[0]\n",
      "[315]\n"
     ]
    }
   ],
   "source": [
    "importlib.reload(aux)\n",
    "\n",
    "print(slice0.data_element('DateOfLastCalibration'))\n",
    "print(slice0.data_element('AcquisitionDate'))\n",
    "print(aux.get_feature_value(slice0,'DateOfLastCalibration'))\n",
    "print(aux.get_feature_value(slice0,'AcquisitionDate'))"
   ]
  },
  {
   "cell_type": "markdown",
   "metadata": {},
   "source": [
    "Moreover, 'ContentDate' is the date the image pixel data creation started. This date is the same as 'AcquisitionDate', so we can omit it:"
   ]
  },
  {
   "cell_type": "code",
   "execution_count": 18,
   "metadata": {},
   "outputs": [
    {
     "name": "stdout",
     "output_type": "stream",
     "text": [
      "<<ContentDate>> removed.\n"
     ]
    }
   ],
   "source": [
    "relev_feats.remove('ContentDate')\n",
    "numer_feats.remove('ContentDate')\n",
    "print('<<'+'ContentDate'+'>> removed.')"
   ]
  },
  {
   "cell_type": "markdown",
   "metadata": {},
   "source": [
    "#### 'TM' = times"
   ]
  },
  {
   "cell_type": "code",
   "execution_count": 19,
   "metadata": {},
   "outputs": [
    {
     "name": "stdout",
     "output_type": "stream",
     "text": [
      "TM AcquisitionTime\n",
      "TM ContentTime\n",
      "TM ContrastBolusStartTime\n",
      "TM ContrastBolusStopTime\n",
      "TM SeriesTime\n",
      "TM StudyTime\n",
      "TM TimeOfLastCalibration\n"
     ]
    }
   ],
   "source": [
    "for feat in numer_feats:\n",
    "    if slice0.data_element(feat).VR=='TM':\n",
    "        print(slice0.data_element(feat).VR,feat)"
   ]
  },
  {
   "cell_type": "markdown",
   "metadata": {},
   "source": [
    "The time at which the scan is performed ('AcquisitionTime') could also affect in the same way as the date. However, in principle we do not need a lot of precision in this feature. Then, we disregard seconds and fraction of second, and map hour $H$ and minute $M$ into $time=H+M/60$."
   ]
  },
  {
   "cell_type": "code",
   "execution_count": 20,
   "metadata": {},
   "outputs": [
    {
     "data": {
      "text/plain": [
       "[13.8]"
      ]
     },
     "execution_count": 20,
     "metadata": {},
     "output_type": "execute_result"
    }
   ],
   "source": [
    "aux.get_feature_value(slice0,'AcquisitionTime')"
   ]
  },
  {
   "cell_type": "markdown",
   "metadata": {},
   "source": [
    "It could also be relevant to analyze time differences. We map 'ContrastBolusStartTime' into a difference with the 'ContrastBolusStopTime' (and we omit this last feature). This difference is computed in seconds:"
   ]
  },
  {
   "cell_type": "code",
   "execution_count": 59,
   "metadata": {},
   "outputs": [
    {
     "name": "stdout",
     "output_type": "stream",
     "text": [
      "(0018, 1042) Contrast/Bolus Start Time           TM: '134821.093967'\n",
      "(0018, 1043) Contrast/Bolus Stop Time            TM: '134935.093968'\n",
      "[0]\n"
     ]
    }
   ],
   "source": [
    "importlib.reload(aux)\n",
    "\n",
    "print(slice0.data_element('ContrastBolusStartTime'))\n",
    "print(slice0.data_element('ContrastBolusStopTime'))\n",
    "print(aux.get_feature_value(slice0,'ContrastBolusStartTime'))\n"
   ]
  },
  {
   "cell_type": "markdown",
   "metadata": {},
   "source": [
    "The value now becomes 0, because there were only two possible outcomes which are mapped to 0 and 1"
   ]
  },
  {
   "cell_type": "code",
   "execution_count": 22,
   "metadata": {},
   "outputs": [
    {
     "name": "stdout",
     "output_type": "stream",
     "text": [
      "<<ContrastBolusStopTime>> removed.\n"
     ]
    }
   ],
   "source": [
    "relev_feats.remove('ContrastBolusStopTime')\n",
    "numer_feats.remove('ContrastBolusStopTime')\n",
    "print('<<'+'ContrastBolusStopTime'+'>> removed.')"
   ]
  },
  {
   "cell_type": "markdown",
   "metadata": {},
   "source": [
    "The calibration is often done the same day of the scan, so it makes sense to consider the difference between 'TimeOfLastCalibration' and 'AcquisitionTime' (in hours). The same applies to 'ContentTime' (in seconds). Then:"
   ]
  },
  {
   "cell_type": "code",
   "execution_count": 23,
   "metadata": {
    "scrolled": true
   },
   "outputs": [
    {
     "name": "stdout",
     "output_type": "stream",
     "text": [
      "(0018, 1201) Time of Last Calibration            TM: '043638.000000'\n",
      "(0008, 0032) Acquisition Time                    TM: '134849.032000'\n",
      "[9.200000000000001]\n"
     ]
    }
   ],
   "source": [
    "importlib.reload(aux)\n",
    "\n",
    "print(slice0.data_element('TimeOfLastCalibration'))\n",
    "print(slice0.data_element('AcquisitionTime'))\n",
    "print(aux.get_feature_value(slice0,'TimeOfLastCalibration'))"
   ]
  },
  {
   "cell_type": "code",
   "execution_count": 24,
   "metadata": {},
   "outputs": [
    {
     "name": "stdout",
     "output_type": "stream",
     "text": [
      "(0008, 0033) Content Time                        TM: '134849.032000'\n",
      "(0008, 0032) Acquisition Time                    TM: '134849.032000'\n",
      "[0.0]\n"
     ]
    }
   ],
   "source": [
    "importlib.reload(aux)\n",
    "\n",
    "print(slice0.data_element('ContentTime'))\n",
    "print(slice0.data_element('AcquisitionTime'))\n",
    "print(aux.get_feature_value(slice0,'ContentTime'))"
   ]
  },
  {
   "cell_type": "markdown",
   "metadata": {},
   "source": [
    "#### 'DT' = datetimes"
   ]
  },
  {
   "cell_type": "markdown",
   "metadata": {},
   "source": [
    "The features with 'DT' tag are combinations of 'DA' and 'TM', so we do not need them:"
   ]
  },
  {
   "cell_type": "code",
   "execution_count": 25,
   "metadata": {
    "scrolled": true
   },
   "outputs": [
    {
     "name": "stdout",
     "output_type": "stream",
     "text": [
      "<<AcquisitionDateTime>> removed.\n"
     ]
    }
   ],
   "source": [
    "for feat in relev_feats:\n",
    "    if slice0.data_element(feat).VR == 'DT':\n",
    "        relev_feats.remove(feat)\n",
    "        numer_feats.remove(feat)\n",
    "        print('<<'+feat+'>> removed.')"
   ]
  },
  {
   "cell_type": "markdown",
   "metadata": {},
   "source": [
    "#### Other considerations"
   ]
  },
  {
   "cell_type": "markdown",
   "metadata": {},
   "source": [
    "The study and series dates and times do not provide any additional relevant information that is not already in the acquisition date and time. \n",
    "Moreover, 'AcquisitionNumber' acts as an identifier.\n",
    "We remove all of them:"
   ]
  },
  {
   "cell_type": "code",
   "execution_count": 26,
   "metadata": {},
   "outputs": [
    {
     "name": "stdout",
     "output_type": "stream",
     "text": [
      "<<StudyDate>> removed.\n",
      "<<StudyTime>> removed.\n",
      "<<SeriesDate>> removed.\n",
      "<<SeriesTime>> removed.\n",
      "<<AcquisitionNumber>> removed.\n"
     ]
    }
   ],
   "source": [
    "for feat in ['StudyDate','StudyTime','SeriesDate','SeriesTime','AcquisitionNumber']:\n",
    "    relev_feats.remove(feat)\n",
    "    numer_feats.remove(feat)\n",
    "    print('<<'+feat+'>> removed.')"
   ]
  },
  {
   "cell_type": "markdown",
   "metadata": {},
   "source": [
    "We also remove features that always take the same value in the whole data set:"
   ]
  },
  {
   "cell_type": "code",
   "execution_count": 27,
   "metadata": {},
   "outputs": [
    {
     "name": "stderr",
     "output_type": "stream",
     "text": [
      "100%|██████████████████████████████████████████████████████████████████████████████████| 14/14 [00:49<00:00,  5.26s/it]\n"
     ]
    }
   ],
   "source": [
    "importlib.reload(aux)\n",
    "\n",
    "numer_feats_dict = {} # Dictionary containing all possible values of each string feature\n",
    "for feat in numer_feats:\n",
    "    numer_feats_dict[feat] = []\n",
    "\n",
    "\n",
    "for week in tqdm([1,2,22,23,24,25,3,32,33,4,5,6,7,72]):\n",
    "    weekname = 'week'+str(week)+'data'\n",
    "    weekdata = eval(weekname)\n",
    "    for scan in list(weekdata.keys()):\n",
    "        for series in list(weekdata[scan][0].keys()):\n",
    "            for slicce in weekdata[scan][0][series]:\n",
    "                for feat in numer_feats:\n",
    "                    if slicce.data_element(feat).VR in ['DT','DA','TM']:\n",
    "                        val = aux.get_feature_value(slicce,feat)\n",
    "                    else:\n",
    "                        val = aux.get_feature_value_numerSection(slicce,feat)\n",
    "                    #val = aux.get_feature_value(slicce,feat)\n",
    "\n",
    "                    if val not in numer_feats_dict[feat]:\n",
    "                        numer_feats_dict[feat].append(val)"
   ]
  },
  {
   "cell_type": "code",
   "execution_count": 28,
   "metadata": {},
   "outputs": [
    {
     "name": "stdout",
     "output_type": "stream",
     "text": [
      "<<BitsAllocated>> removed.\n",
      "<<BitsStored>> removed.\n",
      "<<Columns>> removed.\n",
      "<<ContentTime>> removed.\n",
      "<<ContrastBolusIngredientConcentration>> removed.\n",
      "<<DataCollectionDiameter>> removed.\n",
      "<<DistanceSourceToDetector>> removed.\n",
      "<<DistanceSourceToPatient>> removed.\n",
      "<<ExposureTime>> removed.\n",
      "<<FocalSpots>> removed.\n",
      "<<GantryDetectorTilt>> removed.\n",
      "<<HighBit>> removed.\n",
      "<<ImageOrientationPatient>> removed.\n",
      "<<PixelRepresentation>> removed.\n",
      "<<PixelSpacing>> removed.\n",
      "<<PregnancyStatus>> removed.\n",
      "<<RescaleIntercept>> removed.\n",
      "<<RescaleSlope>> removed.\n",
      "<<Rows>> removed.\n",
      "<<SamplesPerPixel>> removed.\n",
      "<<SingleCollimationWidth>> removed.\n",
      "<<SliceThickness>> removed.\n",
      "<<SpiralPitchFactor>> removed.\n",
      "<<TableFeedPerRotation>> removed.\n",
      "<<TableSpeed>> removed.\n",
      "<<TotalCollimationWidth>> removed.\n"
     ]
    }
   ],
   "source": [
    "relev_numer_feats = []\n",
    "\n",
    "for feat in numer_feats:\n",
    "    if len(numer_feats_dict[feat])==1:\n",
    "        relev_feats.remove(feat)\n",
    "        print('<<'+feat+'>> removed.')\n",
    "    else:\n",
    "        relev_numer_feats.append(feat)"
   ]
  },
  {
   "cell_type": "markdown",
   "metadata": {},
   "source": [
    "Next, we analyze multi-dimensional features:"
   ]
  },
  {
   "cell_type": "code",
   "execution_count": 29,
   "metadata": {
    "scrolled": false
   },
   "outputs": [
    {
     "name": "stdout",
     "output_type": "stream",
     "text": [
      "MULTI-DIMENSIONAL FEATURES:\n",
      "Tag - Different values in data set - Feature\n",
      "  FL 2 <<CalciumScoringMassFactorDevice>>\n",
      "  DS 2 <<ContrastBolusTotalDose>>\n",
      "  DS 2 <<ContrastBolusVolume>>\n",
      "  DS 2 <<ContrastFlowDuration>>\n",
      "  DS 2 <<ContrastFlowRate>>\n",
      "  FD 7787 <<DataCollectionCenterPatient>>\n",
      "  DS 7663 <<ImagePositionPatient>>\n",
      "  DS 2 <<KVP>>\n",
      "  DS 41 <<ReconstructionDiameter>>\n",
      "  FD 7787 <<ReconstructionTargetCenterPatient>>\n",
      "  DS 2463 <<SliceLocation>>\n",
      "  DS 46 <<TableHeight>>\n",
      "  DS 2 <<WindowCenter>>\n",
      "  DS 2 <<WindowWidth>>\n"
     ]
    }
   ],
   "source": [
    "importlib.reload(aux)\n",
    "\n",
    "print('MULTI-DIMENSIONAL FEATURES:')\n",
    "print('Tag - Different values in data set - Feature')\n",
    "for feat in relev_numer_feats:\n",
    "        if len(numer_feats_dict[feat][0])>1:\n",
    "            print('  '+slice0.data_element(feat).VR+' %d'%(len(numer_feats_dict[feat]))+' <<'+feat+'>>')"
   ]
  },
  {
   "cell_type": "markdown",
   "metadata": {},
   "source": [
    "The following multi-dimensional features have only two possible values. We map them to (0,1):"
   ]
  },
  {
   "cell_type": "code",
   "execution_count": 30,
   "metadata": {
    "scrolled": true
   },
   "outputs": [
    {
     "name": "stdout",
     "output_type": "stream",
     "text": [
      "[[0.6430000066757202, 0.6710000038146973, 0.6980000138282776], [0.7429999709129333, 0.7789999842643738, 0.8119999766349792]]\n",
      "[[125, 1], [100, 1]]\n",
      "[[125, 1], [100, 1]]\n",
      "[[30, 14], [25, 1]]\n",
      "[[3, 2], [3, 1]]\n",
      "[[100, 1], [120, 1]]\n",
      "[[60, -500], [50, -500]]\n",
      "[[375, 1500], [350, 1500]]\n"
     ]
    }
   ],
   "source": [
    "print(numer_feats_dict['CalciumScoringMassFactorDevice'])\n",
    "print(numer_feats_dict['ContrastBolusTotalDose'])\n",
    "print(numer_feats_dict['ContrastBolusVolume'])\n",
    "print(numer_feats_dict['ContrastFlowDuration'])\n",
    "print(numer_feats_dict['ContrastFlowRate'])\n",
    "print(numer_feats_dict['KVP'])\n",
    "print(numer_feats_dict['WindowCenter'])\n",
    "print(numer_feats_dict['WindowWidth'])"
   ]
  },
  {
   "cell_type": "markdown",
   "metadata": {},
   "source": [
    " - 'DataCollectionCenterPatient' is a 3-dimensional vector. The first component is always 0, so we only consider the second and third components.\n",
    " - 'ImagePositionPatient' and 'ReconstructionTargetCenterPatient' are 3-dimensional vectors.\n",
    " - 'ReconstructionDiameter', 'SliceLocation', and 'TableHeight' are given as [x,1], so we only take x."
   ]
  },
  {
   "cell_type": "code",
   "execution_count": 60,
   "metadata": {},
   "outputs": [
    {
     "name": "stdout",
     "output_type": "stream",
     "text": [
      "[-181.0, 1580.0]\n",
      "[323]\n",
      "[13.0, -181.0, 1580.0]\n",
      "[-1580]\n",
      "[181]\n"
     ]
    }
   ],
   "source": [
    "importlib.reload(aux)\n",
    "print(aux.get_feature_value(slice0,'DataCollectionCenterPatient'))\n",
    "print(aux.get_feature_value(slice0,'ReconstructionDiameter'))\n",
    "print(aux.get_feature_value(slice0,'SliceLocation'))\n",
    "print(aux.get_feature_value(slice0,'SliceLocation'))\n",
    "print(aux.get_feature_value(slice0,'TableHeight'))"
   ]
  },
  {
   "cell_type": "code",
   "execution_count": 32,
   "metadata": {},
   "outputs": [
    {
     "name": "stdout",
     "output_type": "stream",
     "text": [
      "UNI-DIMENSIONAL FEATURES (except times and dates):\n",
      "Tag - Different values in data set - Feature\n",
      "  DA 33 <<AcquisitionDate>>\n",
      "  TM 69 <<AcquisitionTime>>\n",
      "  TM 2 <<ContrastBolusStartTime>>\n",
      "  DA 2 <<DateOfLastCalibration>>\n",
      "  FD 61 <<EstimatedDoseSaving>>\n",
      "  IS 464 <<Exposure>>\n",
      "  IS 26 <<GeneratorPower>>\n",
      "  IS 145 <<InstanceNumber>>\n",
      "  US 1639 <<LargestImagePixelValue>>\n",
      "  AS 32 <<PatientAge>>\n",
      "  IS 3 <<SeriesNumber>>\n",
      "  US 2 <<SmallestImagePixelValue>>\n",
      "  TM 72 <<TimeOfLastCalibration>>\n",
      "  IS 550 <<XRayTubeCurrent>>\n"
     ]
    }
   ],
   "source": [
    "importlib.reload(aux)\n",
    "\n",
    "print('UNI-DIMENSIONAL FEATURES (except times and dates):')\n",
    "print('Tag - Different values in data set - Feature')\n",
    "for feat in relev_numer_feats:\n",
    "        if len(numer_feats_dict[feat][0])==1:# and (slice0.data_element(feat).VR not in ['TM','DA','DT']):\n",
    "            print('  '+slice0.data_element(feat).VR+' %d'%(len(numer_feats_dict[feat]))+' <<'+feat+'>>')"
   ]
  },
  {
   "cell_type": "markdown",
   "metadata": {},
   "source": [
    " - Both 'DateOfLastCalibration' and 'SmallestImagePixelValue' only have two possible values, and they are already (0,1).\n",
    " - 'ContrastBolusStartTime' can only take values 74 and 26 (seconds). We map them to (0,1).\n",
    " - The 'SeriesNumber' acts as another identifier, so we remove it."
   ]
  },
  {
   "cell_type": "code",
   "execution_count": 33,
   "metadata": {},
   "outputs": [
    {
     "name": "stdout",
     "output_type": "stream",
     "text": [
      "<<SeriesNumber>> removed.\n"
     ]
    }
   ],
   "source": [
    "feat = 'SeriesNumber'\n",
    "relev_feats.remove(feat)\n",
    "print('<<'+feat+'>> removed.')"
   ]
  },
  {
   "cell_type": "markdown",
   "metadata": {},
   "source": [
    "### String preprocessing"
   ]
  },
  {
   "cell_type": "markdown",
   "metadata": {},
   "source": [
    "The strategy we follow here is to map all the possible values of the features represented by strings to a real space. For example, if a feature can only have values 'yes' and 'no', we cast 'yes' into 1 and 'no' into 0."
   ]
  },
  {
   "cell_type": "markdown",
   "metadata": {},
   "source": [
    "The VR of the features represented by strings are 'CS', 'LO', and 'SH'. We use that to identify which features are strings:"
   ]
  },
  {
   "cell_type": "code",
   "execution_count": 34,
   "metadata": {},
   "outputs": [
    {
     "name": "stdout",
     "output_type": "stream",
     "text": [
      "['BodyPartExamined', 'ContrastBolusAgent', 'ConvolutionKernel', 'ExposureModulationType', 'FilterType', 'ImageType', 'PatientPosition', 'PatientSex', 'PhotometricInterpretation', 'RequestedProcedureDescription', 'RescaleType', 'RotationDirection', 'SmokingStatus', 'SoftwareVersions', 'SpecificCharacterSet', 'WindowCenterWidthExplanation']\n"
     ]
    }
   ],
   "source": [
    "str_feats = []\n",
    "for feat in relev_feats:\n",
    "    if (slice0.data_element(feat).VR == 'CS') or (slice0.data_element(feat).VR == 'LO') or (slice0.data_element(feat).VR == 'SH'):\n",
    "        str_feats.append(feat)\n",
    "print(str_feats)"
   ]
  },
  {
   "cell_type": "markdown",
   "metadata": {},
   "source": [
    "To map strings to scalar values, we first need to check how many possible different values they can take."
   ]
  },
  {
   "cell_type": "code",
   "execution_count": 35,
   "metadata": {
    "scrolled": true
   },
   "outputs": [
    {
     "name": "stderr",
     "output_type": "stream",
     "text": [
      "100%|██████████████████████████████████████████████████████████████████████████████████| 14/14 [00:03<00:00,  4.52it/s]\n"
     ]
    }
   ],
   "source": [
    "str_feats_dict = {} # Dictionary containing all possible values of each string feature\n",
    "for feat in str_feats:\n",
    "    str_feats_dict[feat] = []\n",
    "\n",
    "\n",
    "for week in tqdm([1,2,22,23,24,25,3,32,33,4,5,6,7,72]):\n",
    "    weekname = 'week'+str(week)+'data'\n",
    "    weekdata = eval(weekname)\n",
    "    for scan in list(weekdata.keys()):\n",
    "        for series in list(weekdata[scan][0].keys()):\n",
    "            for slicce in weekdata[scan][0][series]:\n",
    "                for feat in str_feats:\n",
    "                    val = slicce.data_element(feat).value\n",
    "                    if val not in str_feats_dict[feat]:\n",
    "                        str_feats_dict[feat].append(val)"
   ]
  },
  {
   "cell_type": "code",
   "execution_count": 36,
   "metadata": {},
   "outputs": [
    {
     "name": "stdout",
     "output_type": "stream",
     "text": [
      "{'BodyPartExamined': ['CHEST / ABDOMEN'], 'ContrastBolusAgent': ['Omnipaque300'], 'ConvolutionKernel': [['I40f', '3'], ['I26f', '3']], 'ExposureModulationType': ['XYZ_EC'], 'FilterType': ['WEDGE_3'], 'ImageType': [['ORIGINAL', 'PRIMARY', 'AXIAL', 'CT_SOM5 SPI']], 'PatientPosition': ['FFS'], 'PatientSex': ['F', 'M'], 'PhotometricInterpretation': ['MONOCHROME2'], 'RequestedProcedureDescription': ['CT Thorax/Abdomen'], 'RescaleType': ['HU'], 'RotationDirection': ['CW'], 'SmokingStatus': ['UNKNOWN'], 'SoftwareVersions': ['syngo CT VA48A'], 'SpecificCharacterSet': ['ISO_IR 100'], 'WindowCenterWidthExplanation': [['WINDOW1', 'WINDOW2']]}\n"
     ]
    }
   ],
   "source": [
    "print(str_feats_dict)"
   ]
  },
  {
   "cell_type": "markdown",
   "metadata": {},
   "source": [
    "Most of the string features always have the same value. Therefore, we remove them from the relevant features list:"
   ]
  },
  {
   "cell_type": "code",
   "execution_count": 37,
   "metadata": {},
   "outputs": [
    {
     "name": "stdout",
     "output_type": "stream",
     "text": [
      "<<BodyPartExamined>> removed.\n",
      "<<ContrastBolusAgent>> removed.\n",
      "<<ExposureModulationType>> removed.\n",
      "<<FilterType>> removed.\n",
      "<<ImageType>> removed.\n",
      "<<PatientPosition>> removed.\n",
      "<<PhotometricInterpretation>> removed.\n",
      "<<RequestedProcedureDescription>> removed.\n",
      "<<RescaleType>> removed.\n",
      "<<RotationDirection>> removed.\n",
      "<<SmokingStatus>> removed.\n",
      "<<SoftwareVersions>> removed.\n",
      "<<SpecificCharacterSet>> removed.\n",
      "<<WindowCenterWidthExplanation>> removed.\n"
     ]
    }
   ],
   "source": [
    "relev_str_feats = []\n",
    "\n",
    "for feat in str_feats:\n",
    "    if len(str_feats_dict[feat])==1:\n",
    "        relev_feats.remove(feat)\n",
    "        print('<<'+feat+'>> removed.')\n",
    "    else:\n",
    "        relev_str_feats.append(feat)"
   ]
  },
  {
   "cell_type": "code",
   "execution_count": 38,
   "metadata": {},
   "outputs": [
    {
     "name": "stdout",
     "output_type": "stream",
     "text": [
      "['ConvolutionKernel', 'PatientSex']\n"
     ]
    }
   ],
   "source": [
    "print(relev_str_feats)"
   ]
  },
  {
   "cell_type": "markdown",
   "metadata": {},
   "source": [
    "The only remaining string features are: \n",
    " - 'ConvolutionKernel': it takes two different values in the whole data set: ( `['I40f', '3']` , `['I26f', '3']` ). We map them to (0,1).\n",
    " - 'PatientSex': it takes two different values in the whole data set: ( `'F'` , `'M'` ). We map them to (0,1).\n",
    "This is implemented in `aux.get_feature_value()`."
   ]
  },
  {
   "cell_type": "markdown",
   "metadata": {},
   "source": [
    "### UID preprocessing"
   ]
  },
  {
   "cell_type": "markdown",
   "metadata": {},
   "source": [
    "From [5]: *Unique Identifiers (UIDs) provide the capability to uniquely identify a wide variety of items. They guarantee uniqueness across multiple  countries, sites, vendors and equipment. Different classes of objects, instance of objects and information entities can be distinguished  from one another across the DICOM universe of discourse irrespective of any semantic context.*\n",
    "\n",
    "Then, it makes no sense to correlate UIDs to the rest of the data, since UIDs only identify objects and do not provide any extra medical nor technical information about the experiment. Hence, we remove all 'UI' features:"
   ]
  },
  {
   "cell_type": "code",
   "execution_count": 39,
   "metadata": {
    "scrolled": true
   },
   "outputs": [
    {
     "name": "stdout",
     "output_type": "stream",
     "text": [
      "<<FrameOfReferenceUID>> removed.\n",
      "<<IrradiationEventUID>> removed.\n",
      "<<SOPClassUID>> removed.\n",
      "<<SeriesInstanceUID>> removed.\n",
      "<<StudyInstanceUID>> removed.\n"
     ]
    }
   ],
   "source": [
    "for feat in relev_feats:\n",
    "    if (slice0.data_element(feat).VR == 'UI'):\n",
    "        relev_feats.remove(feat)\n",
    "        print('<<'+feat+'>> removed.')"
   ]
  },
  {
   "cell_type": "markdown",
   "metadata": {},
   "source": [
    "### Sequence preprocessing"
   ]
  },
  {
   "cell_type": "markdown",
   "metadata": {},
   "source": [
    "Each sequence consists of several subfeatures. We do a similar procedure as in the previous Section to check all the possible values that the 'SQ' subfeatures can take."
   ]
  },
  {
   "cell_type": "code",
   "execution_count": 40,
   "metadata": {
    "scrolled": true
   },
   "outputs": [
    {
     "name": "stdout",
     "output_type": "stream",
     "text": [
      "['ProcedureCodeSequence', 'ReferencedImageSequence', 'RequestedProcedureCodeSequence', 'SourceImageSequence']\n",
      "{'ProcedureCodeSequence': ['CodeMeaning', 'CodeValue', 'CodingSchemeDesignator', 'CodingSchemeVersion'], 'ReferencedImageSequence': ['ReferencedSOPClassUID', 'ReferencedSOPInstanceUID'], 'RequestedProcedureCodeSequence': ['CodeMeaning', 'CodeValue', 'CodingSchemeDesignator', 'CodingSchemeVersion'], 'SourceImageSequence': ['ReferencedSOPClassUID', 'ReferencedSOPInstanceUID']}\n"
     ]
    }
   ],
   "source": [
    "seq_feats = []\n",
    "subseq_feats = {}\n",
    "for feat in relev_feats:\n",
    "    if (slice0.data_element(feat).VR == 'SQ'):\n",
    "        seq_feats.append(feat)\n",
    "        subseq_feats[feat] = slice0.data_element(feat)[0].dir()\n",
    "print(seq_feats)\n",
    "print(subseq_feats)"
   ]
  },
  {
   "cell_type": "markdown",
   "metadata": {},
   "source": [
    "`'ReferencedImageSequence'` and `'SourceImageSequence'` only contain UIDs. Therefore, we remove them from the relevant features:"
   ]
  },
  {
   "cell_type": "code",
   "execution_count": 41,
   "metadata": {
    "scrolled": true
   },
   "outputs": [
    {
     "name": "stdout",
     "output_type": "stream",
     "text": [
      "<<ReferencedImageSequence>> removed.\n",
      "<<SourceImageSequence>> removed.\n"
     ]
    }
   ],
   "source": [
    "for feat in ['ReferencedImageSequence','SourceImageSequence']:\n",
    "    relev_feats.remove(feat)\n",
    "    print('<<'+feat+'>> removed.')"
   ]
  },
  {
   "cell_type": "markdown",
   "metadata": {},
   "source": [
    "Now we keep working with the rest of 'SQ' features:"
   ]
  },
  {
   "cell_type": "code",
   "execution_count": 42,
   "metadata": {},
   "outputs": [
    {
     "name": "stdout",
     "output_type": "stream",
     "text": [
      "['ProcedureCodeSequence', 'RequestedProcedureCodeSequence']\n",
      "{'ProcedureCodeSequence': ['CodeMeaning', 'CodeValue', 'CodingSchemeDesignator', 'CodingSchemeVersion'], 'RequestedProcedureCodeSequence': ['CodeMeaning', 'CodeValue', 'CodingSchemeDesignator', 'CodingSchemeVersion']}\n"
     ]
    }
   ],
   "source": [
    "seq_feats = ['ProcedureCodeSequence', 'RequestedProcedureCodeSequence']\n",
    "subseq_feats = {}\n",
    "for feat in seq_feats:\n",
    "    subseq_feats[feat] = slice0.data_element(feat)[0].dir()\n",
    "print(seq_feats)\n",
    "print(subseq_feats)"
   ]
  },
  {
   "cell_type": "code",
   "execution_count": 43,
   "metadata": {},
   "outputs": [
    {
     "name": "stderr",
     "output_type": "stream",
     "text": [
      "100%|██████████████████████████████████████████████████████████████████████████████████| 14/14 [00:02<00:00,  5.96it/s]\n"
     ]
    }
   ],
   "source": [
    "seq_feats_dict = {} # Dictionary containing all possible values of each sequence feature\n",
    "for feat in seq_feats:\n",
    "    for subfeat in subseq_feats[feat]:\n",
    "        seq_feats_dict[feat+subfeat] = []\n",
    "\n",
    "for week in tqdm([1,2,22,23,24,25,3,32,33,4,5,6,7,72]):\n",
    "    weekname = 'week'+str(week)+'data'\n",
    "    weekdata = eval(weekname)\n",
    "    for scan in list(weekdata.keys()):\n",
    "        for series in list(weekdata[scan][0].keys()):\n",
    "            for slicce in weekdata[scan][0][series]:\n",
    "                for feat in seq_feats:\n",
    "                    for subfeat in slicce.data_element(feat)[0].dir():\n",
    "                        val = slicce.data_element(feat)[0].data_element(subfeat).value\n",
    "                        if val not in seq_feats_dict[feat+subfeat]:\n",
    "                            seq_feats_dict[feat+subfeat].append(val)"
   ]
  },
  {
   "cell_type": "code",
   "execution_count": 44,
   "metadata": {},
   "outputs": [
    {
     "name": "stdout",
     "output_type": "stream",
     "text": [
      "{'ProcedureCodeSequenceCodeMeaning': ['CT Thorax/Abdomen', 'CT Thorax'], 'ProcedureCodeSequenceCodeValue': ['C5-05', 'C5-01'], 'ProcedureCodeSequenceCodingSchemeDesignator': ['SECTRA SLS'], 'ProcedureCodeSequenceCodingSchemeVersion': ['1.0'], 'RequestedProcedureCodeSequenceCodeMeaning': ['CT Thorax/Abdomen', 'CT Thorax'], 'RequestedProcedureCodeSequenceCodeValue': ['C5-05', 'C5-01'], 'RequestedProcedureCodeSequenceCodingSchemeDesignator': ['SECTRA SLS'], 'RequestedProcedureCodeSequenceCodingSchemeVersion': ['1.0']}\n"
     ]
    }
   ],
   "source": [
    "print(seq_feats_dict)"
   ]
  },
  {
   "cell_type": "markdown",
   "metadata": {},
   "source": [
    "From both `'ProcedureCodeSequence'` and `'RequestedProcedureCodeSequence'`, only two subfeatures (`'CodeMeaning'` and `'CodeValue'`) take more than 1 different value. \n",
    "\n",
    "According to Ref. [6], *Code Meaning is text that has meaning to a human and conveys the meaning of the term defined by the combination of Code Value and Coding Scheme Designator. \n",
    "For a particular Coding Scheme Designator and Code Value, several alternative values for Code Meaning may be defined. These may be synonyms or translations. Hence the value of Code Meaning shall never be used as a key, index or decision value. Code Meaning is a purely annotative, descriptive Attribute*\n",
    "\n",
    "Hence, from all the sequences' subfeatures, we only consider `'CodeValue'` (from `'ProcedureCodeSequence'` and `'RequestedProcedureCodeSequence'`).\n",
    "We transform its values as follows:\n",
    " - `'CodeValue'`: (`'C5-05', 'C5-01'`) casted into (0,1)."
   ]
  },
  {
   "cell_type": "markdown",
   "metadata": {},
   "source": [
    "### Image preprocessing"
   ]
  },
  {
   "cell_type": "markdown",
   "metadata": {},
   "source": [
    "`'PixelData'` is the feature that contains the slice image. \n",
    "According to Ref. [7], *PixelData contains the raw bytes exactly as found in the file. If the image is JPEG compressed, these bytes will be the compressed pixel data, not the expanded, uncompressed image. Whether the image is e.g. 16-bit or 8-bit, multiple frames or not, PixelData contains the same raw bytes. [...] A property called pixel_array provides more useful pixel data for uncompressed and compressed images (decompressing compressed images if supported). The pixel_array property returns a NumPy array.*"
   ]
  },
  {
   "cell_type": "code",
   "execution_count": 45,
   "metadata": {},
   "outputs": [
    {
     "data": {
      "text/plain": [
       "512"
      ]
     },
     "execution_count": 45,
     "metadata": {},
     "output_type": "execute_result"
    }
   ],
   "source": [
    "len(slice0.pixel_array)"
   ]
  },
  {
   "cell_type": "markdown",
   "metadata": {},
   "source": [
    "The images are composed by 512x512=262144 pixels. Each individual pixel provides meaningless information, but considering all of them is probably not a good idea, due to the vast amount of pixels. Then, we require an image compression technique."
   ]
  },
  {
   "cell_type": "markdown",
   "metadata": {},
   "source": [
    "We can use SVD and run our model for different number of singular values."
   ]
  },
  {
   "cell_type": "code",
   "execution_count": 46,
   "metadata": {},
   "outputs": [
    {
     "data": {
      "image/png": "[encoded data removed]",
      "text/plain": [
       "<Figure size 432x288 with 1 Axes>"
      ]
     },
     "metadata": {
      "needs_background": "light"
     },
     "output_type": "display_data"
    }
   ],
   "source": [
    "# Original image of slice0\n",
    "C = slice0.pixel_array\n",
    "plt.imshow(C)\n",
    "plt.show()"
   ]
  },
  {
   "cell_type": "code",
   "execution_count": 47,
   "metadata": {},
   "outputs": [
    {
     "name": "stdout",
     "output_type": "stream",
     "text": [
      "6.334133217933413e-11\n"
     ]
    },
    {
     "data": {
      "image/png": "[encoded data removed]",
      "text/plain": [
       "<Figure size 432x288 with 1 Axes>"
      ]
     },
     "metadata": {
      "needs_background": "light"
     },
     "output_type": "display_data"
    }
   ],
   "source": [
    "# Perform SVD and check that it is correctly done (original image is recovered)\n",
    "u, s, v = np.linalg.svd(C)\n",
    "\n",
    "Ck = np.matmul(np.matmul(u,np.diag(s)),v)\n",
    "diff = C - Ck\n",
    "print(np.max(diff))\n",
    "plt.imshow(Ck)\n",
    "plt.show()"
   ]
  },
  {
   "cell_type": "code",
   "execution_count": 48,
   "metadata": {},
   "outputs": [
    {
     "data": {
      "image/png": "[encoded data removed]",
      "text/plain": [
       "<Figure size 432x288 with 1 Axes>"
      ]
     },
     "metadata": {
      "needs_background": "light"
     },
     "output_type": "display_data"
    }
   ],
   "source": [
    "# Show image when rank is reduced to k\n",
    "k = 20\n",
    "\n",
    "importlib.reload(aux)\n",
    "uk, sk, vk = aux.low_rank_C(u,s,v,k)\n",
    "Ck = np.matmul(np.matmul(uk,np.diag(sk)),vk)\n",
    "plt.imshow(Ck)\n",
    "plt.show()"
   ]
  },
  {
   "cell_type": "markdown",
   "metadata": {},
   "source": [
    "In order to choose a suitable $k$, we analyze the ratio $||C-C_k||_F/||C||_F$, where $||·||_F$ is the Frobenius norm, and the number of parameters required to store the reduced image. We look for a trade-off between low enough $||C-C_k||_F/||C||_F$ and low number of parameters:"
   ]
  },
  {
   "cell_type": "code",
   "execution_count": 49,
   "metadata": {},
   "outputs": [
    {
     "name": "stderr",
     "output_type": "stream",
     "text": [
      "100%|██████████████████████████████████████████████████████████████████████████████████| 14/14 [00:00<00:00, 91.50it/s]\n"
     ]
    },
    {
     "name": "stdout",
     "output_type": "stream",
     "text": [
      "[1, 5, 10, 15, 20, 30, 50, 70]\n",
      "[1025, 5125, 10250, 15375, 20500, 30750, 51250, 71750]\n"
     ]
    }
   ],
   "source": [
    "importlib.reload(aux)\n",
    "\n",
    "C_F = np.linalg.norm(C,'fro')\n",
    "k_vec = [1,5,10,15,20,30,50,70,100,150,200,300,400,512]\n",
    "err_vec = []\n",
    "numparam_vec = []\n",
    "\n",
    "for k in tqdm(k_vec):\n",
    "    uk, sk, vk = aux.low_rank_C(u,s,v,k)\n",
    "    Ck = np.matmul(np.matmul(uk,np.diag(sk)),vk)\n",
    "    err = np.linalg.norm(C-Ck,'fro')/C_F\n",
    "    err_vec.append(err)\n",
    "    numparam = len(sk)+uk.shape[0]*uk.shape[1]+vk.shape[0]*vk.shape[1] # k+k*512+k*512\n",
    "    numparam_vec.append(numparam)\n",
    "\n",
    "print(k_vec[:8])\n",
    "print(numparam_vec[:8])"
   ]
  },
  {
   "cell_type": "code",
   "execution_count": 50,
   "metadata": {},
   "outputs": [
    {
     "data": {
      "image/png": "[encoded data removed]",
      "text/plain": [
       "<Figure size 1080x360 with 2 Axes>"
      ]
     },
     "metadata": {
      "needs_background": "light"
     },
     "output_type": "display_data"
    }
   ],
   "source": [
    "fig, ax1 = plt.subplots(figsize=(15,5))\n",
    "\n",
    "color = 'tab:red'\n",
    "ax1.set_xscale('log')\n",
    "ax1.set_xlabel('$k$')\n",
    "ax1.set_ylabel('$||C-C_k||$ / $||C||$', fontsize=9, color=color)\n",
    "ax1.plot(k_vec, err_vec, color=color)\n",
    "ax1.tick_params(axis='y', labelcolor=color)\n",
    "\n",
    "ax2 = ax1.twinx()  # instantiate a second axes that shares the same x-axis\n",
    "\n",
    "color = 'tab:blue'\n",
    "ax2.set_yscale('log')\n",
    "ax2.set_ylabel('Number of parameters', color=color)  # we already handled the x-label with ax1\n",
    "ax2.plot(k_vec, numparam_vec, color=color)\n",
    "ax2.tick_params(axis='y', labelcolor=color)\n",
    "\n",
    "fig.tight_layout()  # otherwise the right y-label is slightly clipped\n",
    "plt.show()"
   ]
  },
  {
   "cell_type": "markdown",
   "metadata": {},
   "source": [
    "<font color='red'> FOR NOW, WE ARE NOT USING THE IMAGE AS A FEATURE."
   ]
  },
  {
   "cell_type": "code",
   "execution_count": 51,
   "metadata": {},
   "outputs": [
    {
     "name": "stdout",
     "output_type": "stream",
     "text": [
      "<<PixelData>> removed.\n"
     ]
    }
   ],
   "source": [
    "feat = 'PixelData'\n",
    "relev_feats.remove(feat)\n",
    "print('<<'+feat+'>> removed.')"
   ]
  },
  {
   "cell_type": "markdown",
   "metadata": {},
   "source": [
    "### Save relevant features"
   ]
  },
  {
   "cell_type": "code",
   "execution_count": 52,
   "metadata": {},
   "outputs": [],
   "source": [
    "# Save relevant features\n",
    "with open('data/relev_feats_NO_IMG.pickle', 'wb') as f:  # Python 3: open(..., 'wb')\n",
    "    pickle.dump(relev_feats, f)"
   ]
  },
  {
   "cell_type": "code",
   "execution_count": 53,
   "metadata": {},
   "outputs": [
    {
     "name": "stdout",
     "output_type": "stream",
     "text": [
      "['AcquisitionDate', 'AcquisitionTime', 'CalciumScoringMassFactorDevice', 'ContrastBolusStartTime', 'ContrastBolusTotalDose', 'ContrastBolusVolume', 'ContrastFlowDuration', 'ContrastFlowRate', 'ConvolutionKernel', 'DataCollectionCenterPatient', 'DateOfLastCalibration', 'EstimatedDoseSaving', 'Exposure', 'GeneratorPower', 'ImagePositionPatient', 'InstanceNumber', 'KVP', 'LargestImagePixelValue', 'PatientAge', 'PatientSex', 'ProcedureCodeSequence', 'ReconstructionDiameter', 'ReconstructionTargetCenterPatient', 'RequestedProcedureCodeSequence', 'SOPInstanceUID', 'SliceLocation', 'SmallestImagePixelValue', 'TableHeight', 'TimeOfLastCalibration', 'WindowCenter', 'WindowWidth', 'XRayTubeCurrent']\n"
     ]
    }
   ],
   "source": [
    "print(relev_feats)"
   ]
  },
  {
   "cell_type": "markdown",
   "metadata": {},
   "source": [
    "## Save data in a useful format"
   ]
  },
  {
   "cell_type": "markdown",
   "metadata": {},
   "source": [
    "First, we have to save in a variable(s) the data we will use in the project. Then, we will save this data in a file.\n",
    "We work with each week data separately. Using the popular linear algebra notation ($Y=Xb$), we will construct two arrays for week $i$ called $Y_i$ and $X_i$, such that $Y = [Y_1, Y_2, ...]'\\in\\mathbb{R}^{n\\times1}$ and $X = [X_1', X_2', ...]'\\in\\mathbb{R}^{n\\times p}$, where $n$ is the total number of slices (samples) and $p$ is the number of feature values."
   ]
  },
  {
   "cell_type": "markdown",
   "metadata": {},
   "source": [
    "<font color='red'> FOR NOW, WE ARE NOT USING THE IMAGE AS A FEATURE."
   ]
  },
  {
   "cell_type": "code",
   "execution_count": 54,
   "metadata": {},
   "outputs": [],
   "source": [
    "# Load data\n",
    "with open('data/relev_feats_NO_IMG.pickle','rb') as f:  # Python 3: open(..., 'rb')\n",
    "    relev_feats = pickle.load(f)"
   ]
  },
  {
   "cell_type": "code",
   "execution_count": 55,
   "metadata": {
    "scrolled": true
   },
   "outputs": [
    {
     "name": "stdout",
     "output_type": "stream",
     "text": [
      "UID feature ignored.\n"
     ]
    },
    {
     "ename": "TypeError",
     "evalue": "can only concatenate list (not \"NoneType\") to list",
     "output_type": "error",
     "traceback": [
      "\u001b[1;31m---------------------------------------------------------------------------\u001b[0m",
      "\u001b[1;31mTypeError\u001b[0m                                 Traceback (most recent call last)",
      "\u001b[1;32m<ipython-input-55-0813e57f3540>\u001b[0m in \u001b[0;36m<module>\u001b[1;34m\u001b[0m\n\u001b[0;32m      9\u001b[0m \u001b[0mslicce\u001b[0m \u001b[1;33m=\u001b[0m \u001b[0mweek1data\u001b[0m\u001b[1;33m[\u001b[0m\u001b[1;34m'E864M5E16Q'\u001b[0m\u001b[1;33m]\u001b[0m\u001b[1;33m[\u001b[0m\u001b[1;36m0\u001b[0m\u001b[1;33m]\u001b[0m\u001b[1;33m[\u001b[0m\u001b[1;36m1\u001b[0m\u001b[1;33m]\u001b[0m\u001b[1;33m[\u001b[0m\u001b[1;36m0\u001b[0m\u001b[1;33m]\u001b[0m\u001b[1;33m\u001b[0m\u001b[1;33m\u001b[0m\u001b[0m\n\u001b[0;32m     10\u001b[0m \u001b[1;32mfor\u001b[0m \u001b[0mfeat\u001b[0m \u001b[1;32min\u001b[0m \u001b[0mrelev_feats\u001b[0m\u001b[1;33m:\u001b[0m\u001b[1;33m\u001b[0m\u001b[1;33m\u001b[0m\u001b[0m\n\u001b[1;32m---> 11\u001b[1;33m     \u001b[0mx\u001b[0m \u001b[1;33m=\u001b[0m \u001b[0mx\u001b[0m\u001b[1;33m+\u001b[0m\u001b[0maux\u001b[0m\u001b[1;33m.\u001b[0m\u001b[0mget_feature_value\u001b[0m\u001b[1;33m(\u001b[0m\u001b[0mslicce\u001b[0m\u001b[1;33m,\u001b[0m\u001b[0mfeat\u001b[0m\u001b[1;33m)\u001b[0m\u001b[1;33m\u001b[0m\u001b[1;33m\u001b[0m\u001b[0m\n\u001b[0m\u001b[0;32m     12\u001b[0m \u001b[1;33m\u001b[0m\u001b[0m\n\u001b[0;32m     13\u001b[0m \u001b[0mp\u001b[0m \u001b[1;33m=\u001b[0m \u001b[0mlen\u001b[0m\u001b[1;33m(\u001b[0m\u001b[0mx\u001b[0m\u001b[1;33m)\u001b[0m\u001b[1;33m\u001b[0m\u001b[1;33m\u001b[0m\u001b[0m\n",
      "\u001b[1;31mTypeError\u001b[0m: can only concatenate list (not \"NoneType\") to list"
     ]
    }
   ],
   "source": [
    "# Compute p (it is not equal to the number of features, as some of them are multivalued;\n",
    "# e.g. if we have a single feature that consists in two floats, it yields p=2)\n",
    "importlib.reload(aux)\n",
    "x = []\n",
    "\n",
    "week = 1    \n",
    "weekname = 'week'+str(week)+'data'\n",
    "weekdata = eval(weekname)\n",
    "slicce = week1data['E864M5E16Q'][0][1][0]\n",
    "for feat in relev_feats:\n",
    "    x = x+aux.get_feature_value(slicce,feat)\n",
    "    \n",
    "p = len(x)\n",
    "print('Number of relevant features = ',len(relev_feats))\n",
    "print('p = ',p)"
   ]
  },
  {
   "cell_type": "code",
   "execution_count": null,
   "metadata": {},
   "outputs": [],
   "source": [
    "importlib.reload(aux)\n",
    "\n",
    "Y = np.empty((0,1))\n",
    "X = np.empty((0,p))\n",
    "\n",
    "\n",
    "for week in tqdm([1,2,22,23,24,25,3,32,33,4,5,6,7,72]):\n",
    "    Yi = np.empty((0,1))\n",
    "    Xi = np.empty((0,p))\n",
    "    weekname = 'week'+str(week)+'data'\n",
    "    weekdata = eval(weekname)\n",
    "    for scan in list(weekdata.keys()):\n",
    "        for series in list(weekdata[scan][0].keys()):\n",
    "            for slicce in weekdata[scan][0][series]:\n",
    "                Yi = np.append(Yi,[np.array([slicce.data_element('CTDIvol').value])],axis=0)\n",
    "                x = []\n",
    "                for feat in relev_feats:\n",
    "                    x = x+aux.get_feature_value(slicce,feat)\n",
    "                Xi = np.append(Xi,[np.array(x)],axis=0)\n",
    "    Y = np.append(Y,Yi,axis=0)\n",
    "    X = np.append(X,Xi,axis=0)"
   ]
  },
  {
   "cell_type": "code",
   "execution_count": null,
   "metadata": {},
   "outputs": [],
   "source": [
    "print(Y.shape)\n",
    "print(X.shape)\n",
    "\n",
    "# Divide data in two separate variables\n",
    "Y12 = Y[:3800,:] # Y 1/2\n",
    "Y22 = Y[3800:,:] # Y 2/2\n",
    "X12 = X[:3800,:] # X 1/2\n",
    "X22 = X[3800:,:] # X 2/2"
   ]
  },
  {
   "cell_type": "code",
   "execution_count": null,
   "metadata": {},
   "outputs": [],
   "source": [
    "# Labels corresponding to the columns of X:\n",
    "labels = []\n",
    "for feat in relev_feats:\n",
    "    a = [feat]*len(aux.get_feature_value(slicce,feat))\n",
    "    labels = labels+a"
   ]
  },
  {
   "cell_type": "code",
   "execution_count": null,
   "metadata": {},
   "outputs": [],
   "source": [
    "# Save Y and X divided into 2 files. We do this in order to be able to upload them to\n",
    "# Github, where the maximum file size is 100 Mb\n",
    "with open('data/YX_12_NO_IMG.pickle', 'wb') as f:  # Python 3: open(..., 'wb')\n",
    "    pickle.dump([Y12,X12], f)\n",
    "with open('data/YX_22_NO_IMG.pickle', 'wb') as f:  # Python 3: open(..., 'wb')\n",
    "    pickle.dump([Y22,X22], f)\n",
    "with open('data/labels_NO_IMG.pickle', 'wb') as f:  # Python 3: open(..., 'wb')\n",
    "    pickle.dump(labels, f)"
   ]
  },
  {
   "cell_type": "markdown",
   "metadata": {},
   "source": [
    "#### How to read the data"
   ]
  },
  {
   "cell_type": "code",
   "execution_count": null,
   "metadata": {},
   "outputs": [],
   "source": [
    "# Load data\n",
    "with open('data/YX_12_NO_IMG.pickle','rb') as f:  # Python 3: open(..., 'rb')\n",
    "    Y12, X12 = pickle.load(f)\n",
    "with open('data/YX_22_NO_IMG.pickle','rb') as f:  # Python 3: open(..., 'rb')\n",
    "    Y22, X22 = pickle.load(f)\n",
    "with open('data/labels_NO_IMG.pickle','rb') as f:  # Python 3: open(..., 'rb')\n",
    "    labels = pickle.load(f)\n",
    "Y = np.append(Y12,Y22,axis=0)\n",
    "X = np.append(X12,X22,axis=0)\n",
    "print(labels)\n",
    "print(len(labels))"
   ]
  },
  {
   "cell_type": "markdown",
   "metadata": {},
   "source": [
    "### Normalization of variables"
   ]
  },
  {
   "cell_type": "code",
   "execution_count": null,
   "metadata": {},
   "outputs": [],
   "source": [
    "# Load data\n",
    "with open('data/YX_12_NO_IMG.pickle','rb') as f:  # Python 3: open(..., 'rb')\n",
    "    Y12, X12 = pickle.load(f)\n",
    "with open('data/YX_22_NO_IMG.pickle','rb') as f:  # Python 3: open(..., 'rb')\n",
    "    Y22, X22 = pickle.load(f)\n",
    "with open('data/labels_NO_IMG.pickle','rb') as f:  # Python 3: open(..., 'rb')\n",
    "    labels = pickle.load(f)\n",
    "Y = np.append(Y12,Y22,axis=0)\n",
    "X = np.append(X12,X22,axis=0)"
   ]
  },
  {
   "cell_type": "markdown",
   "metadata": {},
   "source": [
    "We normalize all the features independently (also the dose) so that they all end up with the same order of magnitude. In order to do that, we shift and scale each feature.\n",
    "We also save the shift and scale in case we wanted to retrieve the original values:"
   ]
  },
  {
   "cell_type": "code",
   "execution_count": null,
   "metadata": {},
   "outputs": [],
   "source": [
    "Xscale = []\n",
    "Xshift = []\n",
    "\n",
    "for i in range(0,X.shape[1]):\n",
    "    n = np.min(X[:,i])\n",
    "    Xshift.append(n)\n",
    "    X[:,i] = X[:,i]-n\n",
    "\n",
    "    m = np.max(X[:,i])\n",
    "    Xscale.append(m)\n",
    "    X[:,i] = X[:,i]/m\n",
    "    \n",
    "Yshift = np.min(Y)\n",
    "Y = Y-Yshift\n",
    "Yscale = np.max(Y)\n",
    "Y = Y/Yscale"
   ]
  },
  {
   "cell_type": "code",
   "execution_count": null,
   "metadata": {},
   "outputs": [],
   "source": [
    "# Save Y and X\n",
    "with open('data/YXnorm_NO_IMG.pickle', 'wb') as f:  # Python 3: open(..., 'wb')\n",
    "    pickle.dump([Y,X,Yshift,Xshift,Yscale,Xscale], f)"
   ]
  },
  {
   "cell_type": "markdown",
   "metadata": {},
   "source": [
    "### Advanced preprocessing"
   ]
  },
  {
   "cell_type": "markdown",
   "metadata": {},
   "source": [
    "This advanced preprocessing has been performed after analyzing the data with a neural network."
   ]
  },
  {
   "cell_type": "code",
   "execution_count": null,
   "metadata": {},
   "outputs": [],
   "source": [
    "with open('data/YXnorm_NO_IMG.pickle','rb') as f:  # Python 3: open(..., 'rb')\n",
    "    Y,X,Yshift,Xshift,Yscale,Xscale = pickle.load(f)\n",
    "with open('data/labels_NO_IMG.pickle','rb') as f:  # Python 3: open(..., 'rb')\n",
    "    feats = pickle.load(f)"
   ]
  },
  {
   "cell_type": "markdown",
   "metadata": {},
   "source": [
    "The analysis with the neural network showed that 'Exposure' and 'XRayTubeCurrent' were linearly dependent, since 'Exposure'='XRayTubeCurrent'$\\times$'ExposureTime', and 'ExposureTime' always takes the same value in our dataset. Therefore, we can remove either 'Exposure' or 'XRayTubeCurrent'. We will remove 'XRayTubeCurrent':"
   ]
  },
  {
   "cell_type": "code",
   "execution_count": null,
   "metadata": {},
   "outputs": [],
   "source": [
    "feat = 'XRayTubeCurrent'\n",
    "xx=np.concatenate((X[:,:feats.index('XRayTubeCurrent')],\n",
    "                X[:,feats.index('XRayTubeCurrent')+1:]),axis=1)\n",
    "feats.remove(feat)\n",
    "print('<<'+feat+'>> removed.')"
   ]
  },
  {
   "cell_type": "code",
   "execution_count": null,
   "metadata": {},
   "outputs": [],
   "source": [
    "# Save\n",
    "with open('data/YXnorm_adv_NO_IMG.pickle', 'wb') as f:  # Python 3: open(..., 'wb')\n",
    "    pickle.dump([Y,X,Yshift,Xshift,Yscale,Xscale], f)\n",
    "with open('data/labels_adv_NO_IMG.pickle','wb') as f:  # Python 3: open(..., 'rb')\n",
    "    pickle.dump(feats, f)"
   ]
  },
  {
   "cell_type": "code",
   "execution_count": null,
   "metadata": {},
   "outputs": [],
   "source": []
  },
  {
   "cell_type": "code",
   "execution_count": null,
   "metadata": {},
   "outputs": [],
   "source": []
  },
  {
   "cell_type": "markdown",
   "metadata": {},
   "source": [
    "## References"
   ]
  },
  {
   "cell_type": "markdown",
   "metadata": {},
   "source": [
    "[1] DICOM tags: https://www.dicomlibrary.com/dicom/dicom-tags/\n",
    "\n",
    "[2] DICOM UIDs: http://dicom.nema.org/dicom/2013/output/chtml/part05/chapter_9.html\n",
    "\n",
    "[3] How to read DICOM files in Python: https://mscipio.github.io/post/read_dicom_files_in_python/\n",
    "\n",
    "[4] General DICOM reference: https://www.dicomstandard.org/current/\n",
    "\n",
    "[5] DICOM tags formats: http://dicom.nema.org/medical/dicom/current/output/pdf/part05.pdf\n",
    "\n",
    "[6] Code Meaning: http://dicom.nema.org/dicom/2013/output/chtml/part03/sect_8.3.html\n",
    "\n",
    "[7] Working with PixelData: https://pydicom.github.io/pydicom/stable/working_with_pixel_data.html\n",
    "\n",
    "[8] CTDIvol meaning: https://dicom.innolitics.com/ciods/ct-image/ct-image/00189345"
   ]
  }
 ],
 "metadata": {
  "kernelspec": {
   "display_name": "Python 3",
   "language": "python",
   "name": "python3"
  },
  "language_info": {
   "codemirror_mode": {
    "name": "ipython",
    "version": 3
   },
   "file_extension": ".py",
   "mimetype": "text/x-python",
   "name": "python",
   "nbconvert_exporter": "python",
   "pygments_lexer": "ipython3",
   "version": "3.7.1"
  }
 },
 "nbformat": 4,
 "nbformat_minor": 2
}
