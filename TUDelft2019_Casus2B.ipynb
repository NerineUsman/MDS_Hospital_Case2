{
 "cells": [
  {
   "cell_type": "markdown",
   "metadata": {},
   "source": [
    "## Analysis of 18F-FDG administration system"
   ]
  },
  {
   "cell_type": "markdown",
   "metadata": {},
   "source": [
    "An FDG-PET scan  (https://en.wikipedia.org/wiki/Positron_emission_tomography) is a routine diagnostic examination often used within clinical oncology. A PET scan is performed by injecting patients with an amount of radioactive 18F atoms that have been coupled to a glucose like molecule.  To administer the radioactive substance to the patient the hospital makes use of an automatic infusion system  similar to the one shown in the figure on the left. Within the infusion system a lead shielded vial of the radioactive 18F-FDG is stored and for each patient the right amount of radioactive tracer is dispensed. After the infusion the system automatically returns a report containing some information about the patient specific infusion process. An example of such a report is shown in the figure to the right. A first inspection of a set of these reports shows that for each patient the administration curve looks different.  Unfortunately it happens that the infusion system breaks down, for instance due to mechanical wear of certain components. This has happened a couple of times in recent years and we are wondering if the information contained in the infusion curves can be used to extract a parameter that can be used to predict imminent failure of the machine."
   ]
  },
  {
   "cell_type": "markdown",
   "metadata": {},
   "source": [
    "In medical imaging it is standard to use the DICOM standard for medical images. \n",
    "A dicom file consists of an image and a header containing relevant metadata of the scan such as patient name, name of the scanner etc.\n",
    "The following code shows how to import and access the image and metadata part of a dicom file:"
   ]
  },
  {
   "cell_type": "code",
   "execution_count": 4,
   "metadata": {
    "collapsed": true
   },
   "outputs": [],
   "source": [
    "import pydicom as dcm\n",
    "%matplotlib inline\n",
    "import matplotlib.pyplot as plt\n",
    "import numpy as np\n",
    "from PIL import Image\n",
    "from os.path import dirname, join\n"
   ]
  },
  {
   "cell_type": "markdown",
   "metadata": {
    "collapsed": true
   },
   "source": [
    "myintego = dcm.read_file('Integodata/exampleAnonIntegoData')\n",
    "print(myintego)"
   ]
  },
  {
   "cell_type": "markdown",
   "metadata": {},
   "source": [
    "The pixel data is stored under the tag '7fe0,0010' but can also be accessed through the shortcut attribute \"pixel_array\":"
   ]
  },
  {
   "cell_type": "code",
   "execution_count": 8,
   "metadata": {},
   "outputs": [
    {
     "name": "stdout",
     "output_type": "stream",
     "text": [
      "(0008, 0005) Specific Character Set              CS: 'ISO_IR 100'\n",
      "(0008, 0008) Image Type                          CS: ['DERIVED', 'SECONDARY']\n",
      "(0008, 0012) Instance Creation Date              DA: '20180504'\n",
      "(0008, 0013) Instance Creation Time              TM: '085254'\n",
      "(0008, 0016) SOP Class UID                       UI: Secondary Capture Image Storage\n",
      "(0008, 0018) SOP Instance UID                    UI: 2.16.124.113531.4.7.1525416776716.1447737627.3\n",
      "(0008, 0020) Study Date                          DA: '20180504'\n",
      "(0008, 0021) Series Date                         DA: '20180504'\n",
      "(0008, 0023) Content Date                        DA: '20180504'\n",
      "(0008, 0030) Study Time                          TM: '000000'\n",
      "(0008, 0031) Series Time                         TM: '085256'\n",
      "(0008, 0033) Content Time                        TM: '085256'\n",
      "(0008, 0050) Accession Number                    SH: '0253057269'\n",
      "(0008, 0060) Modality                            CS: 'PT'\n",
      "(0008, 0064) Conversion Type                     CS: 'DI'\n",
      "(0008, 0070) Manufacturer                        LO: 'Bayer Medical Care Inc.'\n",
      "(0008, 0080) Institution Name                    LO: 'Dordwijk'\n",
      "(0008, 1010) Station Name                        SH: 'INTEGO'\n",
      "(0008, 1030) Study Description                   LO: 'Injectie F-18 FDG'\n",
      "(0008, 1032)  Procedure Code Sequence   1 item(s) ---- \n",
      "   (0008, 0100) Code Value                          SH: 'NG0500IH'\n",
      "   (0008, 0102) Coding Scheme Designator            SH: 'SECTRA'\n",
      "   (0008, 0104) Code Meaning                        LO: 'Injectie F-18 FDG'\n",
      "   ---------\n",
      "(0008, 103e) Series Description                  LO: 'MEDRAD Intego-beelden'\n",
      "(0008, 1070) Operators' Name                     PN: 'ERU'\n",
      "(0008, 1090) Manufacturer's Model Name           LO: 'MEDRAD Intego'\n",
      "(0010, 0021) Issuer of Patient ID                LO: ''\n",
      "(0010, 0040) Patient's Sex                       CS: 'M'\n",
      "(0010, 1010) Patient's Age                       AS: '066Y'\n",
      "(0010, 1020) Patient's Size                      DS: ''\n",
      "(0010, 1030) Patient's Weight                    DS: ''\n",
      "(0018, 1010) Secondary Capture Device ID         LO: ''\n",
      "(0018, 1012) Date of Secondary Capture           DA: '20180504'\n",
      "(0018, 1014) Time of Secondary Capture           TM: '085256'\n",
      "(0018, 1016) Secondary Capture Device Manufactur LO: 'Bayer Medical Care Inc.'\n",
      "(0018, 1018) Secondary Capture Device Manufactur LO: 'MEDRAD Intego'\n",
      "(0018, 1019) Secondary Capture Device Software V LO: 'MEDRAD Intego CR17.1.5'\n",
      "(0018, 1020) Software Version(s)                 LO: 'MEDRAD Intego CR17.1.5'\n",
      "(0018, 1022) Video Image Format Acquired         SH: ''\n",
      "(0018, 1023) Digital Image Format Acquired       LO: ''\n",
      "(0020, 000d) Study Instance UID                  UI: 1.2.840.10008.4.907677.20180504091500.253057269\n",
      "(0020, 000e) Series Instance UID                 UI: 2.16.124.113531.4.7.1525416776373.1968260634.3\n",
      "(0020, 0010) Study ID                            SH: ''\n",
      "(0020, 0011) Series Number                       IS: \"998\"\n",
      "(0020, 0013) Instance Number                     IS: \"1\"\n",
      "(0020, 0020) Patient Orientation                 CS: ''\n",
      "(0020, 0032) Image Position (Patient)            DS: ['0.0', '0.0', '0.0']\n",
      "(0020, 0037) Image Orientation (Patient)         DS: ['1.0', '0.0', '0.0', '0.0', '1.0', '0.0']\n",
      "(0020, 4000) Image Comments                      LT: 'Bayer Injection Image'\n",
      "(0028, 0002) Samples per Pixel                   US: 3\n",
      "(0028, 0004) Photometric Interpretation          CS: 'RGB'\n",
      "(0028, 0006) Planar Configuration                US: 0\n",
      "(0028, 0010) Rows                                US: 500\n",
      "(0028, 0011) Columns                             US: 650\n",
      "(0028, 0100) Bits Allocated                      US: 8\n",
      "(0028, 0101) Bits Stored                         US: 8\n",
      "(0028, 0102) High Bit                            US: 7\n",
      "(0028, 0103) Pixel Representation                US: 0\n",
      "(0051, 0051) Private Creator                     LO: 'Bayer HealthCare Private Tags'\n",
      "(0051, 5100) Private tag data                    DA: '20180504'\n",
      "(0051, 5101) Private tag data                    TM: '085250'\n",
      "(0051, 5102) Private tag data                    FL: 281.0486145019531\n",
      "(0051, 5103) Private tag data                    LO: 'MBq'\n",
      "(0051, 5104) Private tag data                    FL: 596.4365844726562\n",
      "(0051, 5105) Private tag data                    LO: 'MBq'\n",
      "(0051, 5106) Private tag data                    FL: 1.561576008796692\n",
      "(7fe0, 0010) Pixel Data                          OB: Array of 975000 bytes\n"
     ]
    }
   ],
   "source": [
    "myintego = dcm.read_file('Integodata/anon_00a990e5-9e78-40f5-bf66-e4bf4af66d57')\n",
    "print(myintego)\n",
    "img = myintego.pixel_array \n"
   ]
  },
  {
   "cell_type": "code",
   "execution_count": 9,
   "metadata": {
    "scrolled": true
   },
   "outputs": [
    {
     "data": {
      "text/plain": [
       "<matplotlib.image.AxesImage at 0x264193c4518>"
      ]
     },
     "execution_count": 9,
     "metadata": {},
     "output_type": "execute_result"
    },
    {
     "data": {
      "image/png": "[encoded data removed]",
      "text/plain": [
       "<Figure size 432x288 with 1 Axes>"
      ]
     },
     "metadata": {
      "needs_background": "light"
     },
     "output_type": "display_data"
    }
   ],
   "source": [
    "plt.imshow(img)"
   ]
  },
  {
   "cell_type": "markdown",
   "metadata": {},
   "source": [
    "Below is a very simple function to extract the curve from the above image by looking in the right area and simply determining where the highest pixel intensity occurs."
   ]
  },
  {
   "cell_type": "code",
   "execution_count": 13,
   "metadata": {
    "collapsed": true
   },
   "outputs": [],
   "source": [
    "def get_curve(medradarr):\n",
    "    curveraw = medradarr[95:300,343:500,0]\n",
    "    Y = []\n",
    "\n",
    "    for i in range(np.shape(curveraw)[1]):\n",
    "\n",
    "        Y.append(np.round(200 - np.argmax(np.convolve(curveraw[:,i],[5,5],mode='same')))) # of course you can change the convulution to obtain better results\n",
    "\n",
    "    Y = Y/np.max(Y)\n",
    "\n",
    "    return Y\n"
   ]
  },
  {
   "cell_type": "code",
   "execution_count": 14,
   "metadata": {},
   "outputs": [
    {
     "data": {
      "text/plain": [
       "[<matplotlib.lines.Line2D at 0x264195b4a20>]"
      ]
     },
     "execution_count": 14,
     "metadata": {},
     "output_type": "execute_result"
    },
    {
     "data": {
      "image/png": "[encoded data removed]",
      "text/plain": [
       "<Figure size 432x288 with 1 Axes>"
      ]
     },
     "metadata": {
      "needs_background": "light"
     },
     "output_type": "display_data"
    }
   ],
   "source": [
    "plt.plot(get_curve(image))"
   ]
  },
  {
   "cell_type": "markdown",
   "metadata": {},
   "source": [
    "The big challenge now is that the image also contains additional text information about the dose used which is not in the dicom header but might be useful to us. Specifically there is a difference between the amount of radioactive tracer administered to the patient and the amount that was requested by the operator. We will use OCR functionality to obtain the requested amount.\n",
    "\n",
    "To run this on your own machine you will need to install the Tesseract OCR engine and install the python pyocr wrapper to use it from within a notebook.\n"
   ]
  },
  {
   "cell_type": "code",
   "execution_count": 1,
   "metadata": {},
   "outputs": [
    {
     "ename": "ModuleNotFoundError",
     "evalue": "No module named 'ocr_lib'",
     "output_type": "error",
     "traceback": [
      "\u001b[1;31m---------------------------------------------------------------------------\u001b[0m",
      "\u001b[1;31mModuleNotFoundError\u001b[0m                       Traceback (most recent call last)",
      "\u001b[1;32m<ipython-input-1-d44d280b95c6>\u001b[0m in \u001b[0;36m<module>\u001b[1;34m\u001b[0m\n\u001b[1;32m----> 1\u001b[1;33m \u001b[1;32mimport\u001b[0m \u001b[0mocr_lib\u001b[0m \u001b[1;32mas\u001b[0m \u001b[0mocr\u001b[0m\u001b[1;33m\u001b[0m\u001b[1;33m\u001b[0m\u001b[0m\n\u001b[0m\u001b[0;32m      2\u001b[0m \u001b[1;32mfrom\u001b[0m \u001b[0mmatplotlib\u001b[0m \u001b[1;32mimport\u001b[0m \u001b[0mpyplot\u001b[0m \u001b[1;32mas\u001b[0m \u001b[0mplt\u001b[0m\u001b[1;33m\u001b[0m\u001b[1;33m\u001b[0m\u001b[0m\n\u001b[0;32m      3\u001b[0m \u001b[1;32mimport\u001b[0m \u001b[0mnumpy\u001b[0m \u001b[1;32mas\u001b[0m \u001b[0mnp\u001b[0m\u001b[1;33m\u001b[0m\u001b[1;33m\u001b[0m\u001b[0m\n\u001b[0;32m      4\u001b[0m \u001b[1;32mimport\u001b[0m \u001b[0mos\u001b[0m\u001b[1;33m\u001b[0m\u001b[1;33m\u001b[0m\u001b[0m\n\u001b[0;32m      5\u001b[0m \u001b[1;32mfrom\u001b[0m \u001b[0mskimage\u001b[0m\u001b[1;33m.\u001b[0m\u001b[0mcolor\u001b[0m \u001b[1;32mimport\u001b[0m \u001b[0mrgb2gray\u001b[0m\u001b[1;33m\u001b[0m\u001b[1;33m\u001b[0m\u001b[0m\n",
      "\u001b[1;31mModuleNotFoundError\u001b[0m: No module named 'ocr_lib'"
     ]
    }
   ],
   "source": [
    "import ocr_lib as ocr\n",
    "from matplotlib import pyplot as plt\n",
    "import numpy as np\n",
    "import os\n",
    "from skimage.color import rgb2gray\n",
    "\n",
    "\n"
   ]
  },
  {
   "cell_type": "code",
   "execution_count": 17,
   "metadata": {},
   "outputs": [
    {
     "ename": "NameError",
     "evalue": "name 'rgb2gray' is not defined",
     "output_type": "error",
     "traceback": [
      "\u001b[1;31m---------------------------------------------------------------------------\u001b[0m",
      "\u001b[1;31mNameError\u001b[0m                                 Traceback (most recent call last)",
      "\u001b[1;32m<ipython-input-17-0ab5cf4893f0>\u001b[0m in \u001b[0;36m<module>\u001b[1;34m\u001b[0m\n\u001b[1;32m----> 1\u001b[1;33m \u001b[0mimg_gray\u001b[0m\u001b[1;33m=\u001b[0m\u001b[0mrgb2gray\u001b[0m\u001b[1;33m(\u001b[0m\u001b[0mimg\u001b[0m\u001b[1;33m)\u001b[0m \u001b[1;31m# with this conversion OCR works better\u001b[0m\u001b[1;33m\u001b[0m\u001b[1;33m\u001b[0m\u001b[0m\n\u001b[0m\u001b[0;32m      2\u001b[0m \u001b[0mplt\u001b[0m\u001b[1;33m.\u001b[0m\u001b[0mimshow\u001b[0m\u001b[1;33m(\u001b[0m\u001b[0mimg_gray\u001b[0m\u001b[1;33m[\u001b[0m\u001b[1;36m127\u001b[0m\u001b[1;33m:\u001b[0m\u001b[1;36m142\u001b[0m\u001b[1;33m,\u001b[0m\u001b[1;36m198\u001b[0m\u001b[1;33m:\u001b[0m\u001b[1;36m243\u001b[0m\u001b[1;33m]\u001b[0m\u001b[1;33m)\u001b[0m\u001b[1;33m\u001b[0m\u001b[1;33m\u001b[0m\u001b[0m\n\u001b[0;32m      3\u001b[0m \u001b[0mocrres\u001b[0m \u001b[1;33m=\u001b[0m \u001b[0mocr\u001b[0m\u001b[1;33m.\u001b[0m\u001b[0mOCR\u001b[0m\u001b[1;33m(\u001b[0m\u001b[0mnp\u001b[0m\u001b[1;33m.\u001b[0m\u001b[0mtranspose\u001b[0m\u001b[1;33m(\u001b[0m\u001b[0mimg_gray\u001b[0m\u001b[1;33m)\u001b[0m\u001b[1;33m,\u001b[0m\u001b[1;33m[\u001b[0m\u001b[1;36m198\u001b[0m\u001b[1;33m,\u001b[0m\u001b[1;36m127\u001b[0m\u001b[1;33m,\u001b[0m\u001b[1;36m45\u001b[0m\u001b[1;33m,\u001b[0m\u001b[1;36m15\u001b[0m\u001b[1;33m]\u001b[0m\u001b[1;33m)\u001b[0m\u001b[1;33m\u001b[0m\u001b[1;33m\u001b[0m\u001b[0m\n\u001b[0;32m      4\u001b[0m \u001b[0mprint\u001b[0m \u001b[1;33m(\u001b[0m\u001b[1;34m'The extracted value is: '\u001b[0m\u001b[1;33m,\u001b[0m\u001b[0mfloat\u001b[0m\u001b[1;33m(\u001b[0m\u001b[0mocrres\u001b[0m\u001b[1;33m[\u001b[0m\u001b[1;36m0\u001b[0m\u001b[1;33m]\u001b[0m\u001b[1;33m.\u001b[0m\u001b[0mreplace\u001b[0m\u001b[1;33m(\u001b[0m\u001b[1;34m','\u001b[0m\u001b[1;33m,\u001b[0m\u001b[1;34m'.'\u001b[0m\u001b[1;33m)\u001b[0m\u001b[1;33m)\u001b[0m\u001b[1;33m)\u001b[0m\u001b[1;33m\u001b[0m\u001b[1;33m\u001b[0m\u001b[0m\n",
      "\u001b[1;31mNameError\u001b[0m: name 'rgb2gray' is not defined"
     ]
    }
   ],
   "source": [
    "img_gray=rgb2gray(img) # with this conversion OCR works better\n",
    "plt.imshow(img_gray[127:142,198:243])\n",
    "ocrres = ocr.OCR(np.transpose(img_gray),[198,127,45,15])\n",
    "print ('The extracted value is: ',float(ocrres[0].replace(',','.')))"
   ]
  },
  {
   "cell_type": "code",
   "execution_count": null,
   "metadata": {
    "collapsed": true
   },
   "outputs": [],
   "source": [
    "\n",
    "datadir = \"Integodata/\"\n",
    "\n",
    "results = []\n",
    "\n",
    "for filename in os.listdir(datadir):\n",
    "    print('Processing:',filename)\n",
    "\n",
    "    tmpdcm = dcm.read_file(tmpfile)\n",
    "    tmparr =  tmpdcm.pixel_array\n",
    "    tmpcurve = get_curve(tmparr)\n",
    "    \n",
    "    tmpdims = np.shape(tmparr)\n",
    "    tmparr = np.reshape(tmparr,(tmpdims[1],tmpdims[2],tmpdims[0])) \n",
    "    tmpdate = tmpdcm.StudyDate\n",
    "\n",
    "\n",
    "    admdose = tmpdcm['0051','5102'].value\n",
    "\n",
    "    print (tmpdate,admdose)\n",
    "\n",
    "\n",
    "    try:\n",
    "        arr = tmpdcm.pixel_array\n",
    "        arr= arr.reshape(500,650,3)\n",
    "        img_gray=rgb2gray(arr)\n",
    "            \n",
    "        #ocrres = ocr.OCR(img_gray,[500-200,650-111,40,40])\n",
    "        ocrres = ocr.OCR(np.transpose(img_gray),[198,127,45,15])\n",
    "        print(ocrres)\n",
    "        reqdose = float(ocrres[0].replace(',','.'))\n",
    "        difdose = reqdose - admdose\n",
    "        reldifdose = difdose/reqdose\n",
    "\n",
    "    except:\n",
    "        reqdose = None\n",
    "        difdose = None\n",
    "        reldifdose = None\n",
    "\n",
    "        \n",
    "   \n",
    "    results.append([tmpdate,admdose,reqdose,difdose,reldifdose,tmpcurve])\n"
   ]
  },
  {
   "cell_type": "code",
   "execution_count": null,
   "metadata": {
    "collapsed": true
   },
   "outputs": [],
   "source": [
    "results"
   ]
  },
  {
   "cell_type": "code",
   "execution_count": null,
   "metadata": {
    "collapsed": true
   },
   "outputs": [],
   "source": []
  }
 ],
 "metadata": {
  "kernelspec": {
   "display_name": "Python 3",
   "language": "python",
   "name": "python3"
  },
  "language_info": {
   "codemirror_mode": {
    "name": "ipython",
    "version": 3
   },
   "file_extension": ".py",
   "mimetype": "text/x-python",
   "name": "python",
   "nbconvert_exporter": "python",
   "pygments_lexer": "ipython3",
   "version": "3.7.1"
  }
 },
 "nbformat": 4,
 "nbformat_minor": 2
}
