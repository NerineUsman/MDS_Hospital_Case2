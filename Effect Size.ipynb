{
 "cells": [
  {
   "cell_type": "code",
   "execution_count": 15,
   "metadata": {},
   "outputs": [],
   "source": [
    "# To import the data we need the dicom library\n",
    "import os\n",
    "import numpy as np\n",
    "from matplotlib import pyplot as plt\n",
    "from scipy import ndimage\n",
    "\n",
    "import importlib\n",
    "from tqdm import tqdm\n",
    "import pickle\n",
    "\n",
    "from os.path import dirname, join\n",
    "from pprint import pprint\n",
    "\n",
    "import pydicom\n",
    "from pydicom.data import get_testdata_files\n",
    "from pydicom.filereader import read_dicomdir\n",
    "\n",
    "import aux_preprocessing as aux"
   ]
  },
  {
   "cell_type": "code",
   "execution_count": 8,
   "metadata": {},
   "outputs": [],
   "source": [
    "week1data = aux._getstudies(\"Thorax_Abdomen/week1/DICOMDIR\")\n",
    "week2data = aux._getstudies(\"Thorax_Abdomen/week2/DICOMDIR\")\n",
    "week3data = aux._getstudies(\"Thorax_Abdomen/week3/DICOMDIR\")\n",
    "week4data = aux._getstudies(\"Thorax_Abdomen/week4/DICOMDIR\")\n",
    "week5data = aux._getstudies(\"Thorax_Abdomen/week5/DICOMDIR\")\n",
    "week6data = aux._getstudies(\"Thorax_Abdomen/week6/DICOMDIR\")\n",
    "week7data = aux._getstudies(\"Thorax_Abdomen/week7/DICOMDIR\")"
   ]
  },
  {
   "cell_type": "code",
   "execution_count": 10,
   "metadata": {},
   "outputs": [],
   "source": [
    "week22data = aux._getstudies(\"Thorax_Abdomen/week2_2/DICOMDIR\")\n",
    "week23data = aux._getstudies(\"Thorax_Abdomen/week2_3/DICOMDIR\")\n",
    "week24data = aux._getstudies(\"Thorax_Abdomen/week2_4/DICOMDIR\")\n",
    "week25data = aux._getstudies(\"Thorax_Abdomen/week2_5/DICOMDIR\")\n",
    "week32data = aux._getstudies(\"Thorax_Abdomen/week3_2/DICOMDIR\")\n",
    "week33data = aux._getstudies(\"Thorax_Abdomen/week3_3/DICOMDIR\")\n",
    "week72data = aux._getstudies(\"Thorax_Abdomen/week7_2/DICOMDIR\")"
   ]
  },
  {
   "cell_type": "code",
   "execution_count": 2,
   "metadata": {},
   "outputs": [],
   "source": [
    "# authors : Guillaume Lemaitre <g.lemaitre58@gmail.com>\n",
    "# license : MIT\n",
    "\n",
    "from os.path import dirname, join\n",
    "from pprint import pprint\n",
    "\n",
    "import pydicom\n",
    "from pydicom.data import get_testdata_files\n",
    "from pydicom.filereader import read_dicomdir\n",
    "\n",
    "# fetch the path to the test data\n",
    "#filepath = get_testdata_files('DICOMDIR')[0]\n",
    "#print('Path to the DICOM directory: {}'.format(filepath))\n",
    "# load the data\n",
    "\n",
    "def _getstudies(filepath):\n",
    "    filepath = filepath \n",
    "    dicom_dir = read_dicomdir(filepath)\n",
    "    base_dir = dirname(filepath)\n",
    "\n",
    "    allstudies = {}\n",
    "\n",
    "    # go through the patient record and print information\n",
    "    for patient_record in dicom_dir.patient_records:\n",
    "#         if (hasattr(patient_record, 'PatientID') and\n",
    "#                 hasattr(patient_record, 'PatientName')):\n",
    "#             print(\"Patient: {}: {}\".format(patient_record.PatientID,\n",
    "#                                            patient_record.PatientName))\n",
    "        studies = patient_record.children\n",
    "        # got through each serie\n",
    "        for study in studies:\n",
    "#             print(\" \" * 4 + \"Study {}: {}: {}\".format(study.StudyID,\n",
    "#                                                       study.StudyDate,\n",
    "#                                                       study.StudyDescription))\n",
    "            allstudies[study.StudyID] = []\n",
    "            all_series = study.children\n",
    "            # go through each serie\n",
    "            tmpseries = {}\n",
    "            for series in all_series:\n",
    "                image_count = len(series.children)\n",
    "                plural = ('', 's')[image_count > 1]\n",
    "\n",
    "                # Write basic series info and image count\n",
    "\n",
    "                # Put N/A in if no Series Description\n",
    "                if 'SeriesDescription' not in series:\n",
    "                    series.SeriesDescription = \"N/A\"\n",
    "#                 print(\" \" * 8 + \"Series {}: {}: {} ({} image{})\".format(\n",
    "#                     series.SeriesNumber, series.Modality, series.SeriesDescription,\n",
    "#                     image_count, plural))\n",
    "\n",
    "                # Open and read something from each image, for demonstration\n",
    "                # purposes. For simple quick overview of DICOMDIR, leave the\n",
    "                # following out\n",
    "#                 print(\" \" * 12 + \"Reading images...\")\n",
    "                image_records = series.children\n",
    "                image_filenames = [join(base_dir, *image_rec.ReferencedFileID)\n",
    "                                   for image_rec in image_records]\n",
    "\n",
    "                datasets = [pydicom.dcmread(image_filename)\n",
    "                            for image_filename in image_filenames]\n",
    "\n",
    "                patient_names = set(ds.PatientName for ds in datasets)\n",
    "                patient_IDs = set(ds.PatientID for ds in datasets)\n",
    "\n",
    "                # List the image filenames\n",
    "#                 print(\"\\n\" + \" \" * 12 + \"Image filenames:\")\n",
    "#                 print(\" \" * 12, end=' ')\n",
    "                #pprint(image_filenames, indent=12)\n",
    "\n",
    "                # Expect all images to have same patient name, id\n",
    "                # Show the set of all names, IDs found (should each have one)\n",
    "#                 print(\" \" * 12 + \"Patient Names in images..: {}\".format(\n",
    "#                     patient_names))\n",
    "#                 print(\" \" * 12 + \"Patient IDs in images..: {}\".format(\n",
    "#                     patient_IDs))\n",
    "                tmpseries[int(series.SeriesNumber)] = datasets\n",
    "\n",
    "            allstudies[study.StudyID].append(tmpseries)\n",
    "    return allstudies\n",
    "\n",
    "# These are the dicom studies in the dicomdir\n",
    "allstudies = _getstudies(\"Thorax_Abdomen/week1/DICOMDIR\")"
   ]
  },
  {
   "cell_type": "markdown",
   "metadata": {},
   "source": [
    "# Functions to determine size of a patient"
   ]
  },
  {
   "cell_type": "code",
   "execution_count": 38,
   "metadata": {},
   "outputs": [],
   "source": [
    "def sizeSlice(s):\n",
    "    ## determines the amount of pixels that are above the threshold for a slice\n",
    "    threshold_mask = s.pixel_array > 800\n",
    "    tmpmask = ndimage.binary_erosion(threshold_mask,iterations =6)\n",
    "    closedmask = ndimage.binary_fill_holes(tmpmask)\n",
    "    n_pixels = np.sum(closedmask)      ## # pixels above threshold\n",
    "    v_pixel = s.PixelSpacing[0]*s.PixelSpacing[1]*s.SliceThickness *10**(-6) # volume 1 pixel in leters\n",
    "    return n_pixels*v_pixel\n",
    "\n",
    "def sizeSlice_wo_hollow(s):\n",
    "    threshold_mask = s.pixel_array > 800\n",
    "    tmpmask = ndimage.binary_erosion(threshold_mask,iterations =6)\n",
    "    n_pixels = np.sum(tmpmask)      ## # pixels above threshold\n",
    "    v_pixel = s.PixelSpacing[0]*s.PixelSpacing[1]*s.SliceThickness *10**(-6) # volume 1 pixel in leters\n",
    "    return n_pixels*v_pixel\n",
    "\n",
    "def sizePatient(patient):\n",
    "    ## gives volume of scanned body in liters\n",
    "    volume = 0\n",
    "    for s in patient:\n",
    "        volume += sizeSlice(s)\n",
    "    return volume\n",
    "\n"
   ]
  },
  {
   "cell_type": "markdown",
   "metadata": {},
   "source": [
    "Looking at the two patients below, we see that the first person has a volume of 32 dm^3 and the second is a fat lady of 51 dm^3 (only abdomen!), we can see a lot more fat around her belly ;)"
   ]
  },
  {
   "cell_type": "code",
   "execution_count": 40,
   "metadata": {
    "scrolled": false
   },
   "outputs": [
    {
     "ename": "NameError",
     "evalue": "name 'allstudies' is not defined",
     "output_type": "error",
     "traceback": [
      "\u001b[1;31m---------------------------------------------------------------------------\u001b[0m",
      "\u001b[1;31mNameError\u001b[0m                                 Traceback (most recent call last)",
      "\u001b[1;32m<ipython-input-40-4bf3852c8f0e>\u001b[0m in \u001b[0;36m<module>\u001b[1;34m\u001b[0m\n\u001b[0;32m      1\u001b[0m \u001b[1;33m\u001b[0m\u001b[0m\n\u001b[1;32m----> 2\u001b[1;33m \u001b[0mplt\u001b[0m\u001b[1;33m.\u001b[0m\u001b[0mimshow\u001b[0m\u001b[1;33m(\u001b[0m\u001b[0mallstudies\u001b[0m\u001b[1;33m[\u001b[0m\u001b[1;34m'E864M5E16Q'\u001b[0m\u001b[1;33m]\u001b[0m\u001b[1;33m[\u001b[0m\u001b[1;36m0\u001b[0m\u001b[1;33m]\u001b[0m\u001b[1;33m[\u001b[0m\u001b[1;36m1\u001b[0m\u001b[1;33m]\u001b[0m\u001b[1;33m[\u001b[0m\u001b[1;36m80\u001b[0m\u001b[1;33m]\u001b[0m\u001b[1;33m.\u001b[0m\u001b[0mpixel_array\u001b[0m\u001b[1;33m)\u001b[0m\u001b[1;33m\u001b[0m\u001b[1;33m\u001b[0m\u001b[0m\n\u001b[0m\u001b[0;32m      3\u001b[0m \u001b[0msizePatient\u001b[0m\u001b[1;33m(\u001b[0m\u001b[0mallstudies\u001b[0m\u001b[1;33m[\u001b[0m\u001b[1;34m'E864M5E16Q'\u001b[0m\u001b[1;33m]\u001b[0m\u001b[1;33m[\u001b[0m\u001b[1;36m0\u001b[0m\u001b[1;33m]\u001b[0m\u001b[1;33m[\u001b[0m\u001b[1;36m1\u001b[0m\u001b[1;33m]\u001b[0m\u001b[1;33m)\u001b[0m\u001b[1;33m\u001b[0m\u001b[1;33m\u001b[0m\u001b[0m\n",
      "\u001b[1;31mNameError\u001b[0m: name 'allstudies' is not defined"
     ]
    }
   ],
   "source": [
    "\n",
    "plt.imshow(allstudies['E864M5E16Q'][0][1][80].pixel_array)\n",
    "sizePatient(allstudies['E864M5E16Q'][0][1])\n"
   ]
  },
  {
   "cell_type": "code",
   "execution_count": 15,
   "metadata": {},
   "outputs": [
    {
     "data": {
      "text/plain": [
       "51.512629688415515"
      ]
     },
     "execution_count": 15,
     "metadata": {},
     "output_type": "execute_result"
    },
    {
     "data": {
      "image/png": "[encoded data removed]",
      "text/plain": [
       "<Figure size 432x288 with 1 Axes>"
      ]
     },
     "metadata": {
      "needs_background": "light"
     },
     "output_type": "display_data"
    }
   ],
   "source": [
    "plt.imshow(allstudies['E864M5E17Q'][0][7][80].pixel_array)\n",
    "sizePatient(allstudies['E864M5E17Q'][0][7])"
   ]
  },
  {
   "cell_type": "markdown",
   "metadata": {},
   "source": [
    "# Effect size on dosis"
   ]
  },
  {
   "cell_type": "code",
   "execution_count": 16,
   "metadata": {},
   "outputs": [],
   "source": [
    "from sklearn.linear_model import LinearRegression\n",
    "from tqdm import tqdm"
   ]
  },
  {
   "cell_type": "code",
   "execution_count": 39,
   "metadata": {},
   "outputs": [
    {
     "name": "stderr",
     "output_type": "stream",
     "text": [
      "\n",
      "\n",
      "  0%|                                                                                           | 0/14 [00:00<?, ?it/s]\n",
      "\n",
      "  7%|█████▉                                                                             | 1/14 [01:16<16:32, 76.37s/it]\n",
      "\n",
      " 14%|███████████▊                                                                       | 2/14 [01:50<12:44, 63.68s/it]\n",
      "\n",
      " 21%|█████████████████▊                                                                 | 3/14 [01:57<08:33, 46.66s/it]\n",
      "\n",
      " 29%|███████████████████████▋                                                           | 4/14 [02:04<05:46, 34.66s/it]\n",
      "\n",
      " 36%|█████████████████████████████▋                                                     | 5/14 [02:25<04:34, 30.55s/it]\n",
      "\n",
      " 43%|███████████████████████████████████▌                                               | 6/14 [02:43<03:36, 27.02s/it]\n",
      "\n",
      " 50%|█████████████████████████████████████████▌                                         | 7/14 [03:19<03:27, 29.65s/it]\n",
      "\n",
      " 57%|███████████████████████████████████████████████▍                                   | 8/14 [03:40<02:42, 27.16s/it]\n",
      "\n",
      " 64%|█████████████████████████████████████████████████████▎                             | 9/14 [03:56<01:58, 23.64s/it]\n",
      "\n",
      " 71%|██████████████████████████████████████████████████████████▌                       | 10/14 [04:54<02:16, 34.06s/it]\n",
      "\n",
      " 79%|████████████████████████████████████████████████████████████████▍                 | 11/14 [05:30<01:44, 34.67s/it]\n",
      "\n",
      " 86%|██████████████████████████████████████████████████████████████████████▎           | 12/14 [06:33<01:26, 43.11s/it]\n",
      "\n",
      " 93%|████████████████████████████████████████████████████████████████████████████▏     | 13/14 [07:02<00:38, 38.98s/it]\n",
      "\n",
      "100%|██████████████████████████████████████████████████████████████████████████████████| 14/14 [07:31<00:00, 35.77s/it]\n",
      "\n"
     ]
    }
   ],
   "source": [
    "basedir = \"Thorax_Abdomen/\"\n",
    "ctdatadir = os.listdir(basedir)\n",
    "\n",
    "overview = {}\n",
    "\n",
    "\n",
    "\n",
    "for tmpdata in tqdm(ctdatadir):\n",
    "    weekstudies = _getstudies(os.path.join(basedir,tmpdata,\"DICOMDIR\"))\n",
    "    for key in weekstudies.keys():\n",
    "        tmpstudy = weekstudies[key][0]\n",
    "        if len(tmpstudy.keys()) > 1:\n",
    "            print (\"More than 1 study for this patient!\")\n",
    "            break\n",
    "            \n",
    "        seriesid = list(tmpstudy.keys())\n",
    "#         print(seriesid)\n",
    "        seriesid = seriesid[0]\n",
    "        i = 0\n",
    "        overview[key] = {}\n",
    "        for s in tmpstudy[seriesid]:\n",
    "            overview[key][i] = {}\n",
    "            overview[key][i]['dose'] = s.CTDIvol\n",
    "            overview[key][i]['size'] = sizeSlice(s)\n",
    "            overview[key][i]['size_wo_hollow'] = sizeSlice_wo_hollow(s)\n",
    "            i +=1\n",
    "\n",
    "        "
   ]
  },
  {
   "cell_type": "markdown",
   "metadata": {},
   "source": [
    "In the above code we load all the dose values and sizes of each patient."
   ]
  },
  {
   "cell_type": "code",
   "execution_count": 40,
   "metadata": {},
   "outputs": [],
   "source": [
    "size = []\n",
    "size_h = []\n",
    "dose = []\n",
    "\n",
    "for key in iter(overview):\n",
    "    for s in iter(doseoverview[key]):\n",
    "        dose.append(overview[key][s]['dose'])\n",
    "        size.append(overview[key][s]['size'])\n",
    "        size_h.append(overview[key][s]['size_wo_hollow'])\n",
    "\n",
    "size = np.array(size).reshape(-1, 1)\n",
    "dose = np.array(dose).reshape(-1, 1)"
   ]
  },
  {
   "cell_type": "code",
   "execution_count": 1,
   "metadata": {},
   "outputs": [
    {
     "ename": "NameError",
     "evalue": "name 'LinearRegression' is not defined",
     "output_type": "error",
     "traceback": [
      "\u001b[1;31m---------------------------------------------------------------------------\u001b[0m",
      "\u001b[1;31mNameError\u001b[0m                                 Traceback (most recent call last)",
      "\u001b[1;32m<ipython-input-1-38708b87b46e>\u001b[0m in \u001b[0;36m<module>\u001b[1;34m\u001b[0m\n\u001b[1;32m----> 1\u001b[1;33m \u001b[0mreg\u001b[0m \u001b[1;33m=\u001b[0m \u001b[0mLinearRegression\u001b[0m\u001b[1;33m(\u001b[0m\u001b[1;33m)\u001b[0m\u001b[1;33m.\u001b[0m\u001b[0mfit\u001b[0m\u001b[1;33m(\u001b[0m\u001b[0msize\u001b[0m\u001b[1;33m,\u001b[0m \u001b[0mdose\u001b[0m\u001b[1;33m)\u001b[0m\u001b[1;33m\u001b[0m\u001b[1;33m\u001b[0m\u001b[0m\n\u001b[0m\u001b[0;32m      2\u001b[0m \u001b[1;31m# reg2 = LinearRegression().fit(size_h, dose)\u001b[0m\u001b[1;33m\u001b[0m\u001b[1;33m\u001b[0m\u001b[1;33m\u001b[0m\u001b[0m\n\u001b[0;32m      3\u001b[0m \u001b[1;33m\u001b[0m\u001b[0m\n\u001b[0;32m      4\u001b[0m \u001b[0mpred_dose\u001b[0m \u001b[1;33m=\u001b[0m \u001b[0mreg\u001b[0m\u001b[1;33m.\u001b[0m\u001b[0mpredict\u001b[0m\u001b[1;33m(\u001b[0m\u001b[0msize\u001b[0m\u001b[1;33m)\u001b[0m\u001b[1;33m\u001b[0m\u001b[1;33m\u001b[0m\u001b[0m\n\u001b[0;32m      5\u001b[0m \u001b[0mplt\u001b[0m\u001b[1;33m.\u001b[0m\u001b[0mplot\u001b[0m\u001b[1;33m(\u001b[0m\u001b[0msize\u001b[0m\u001b[1;33m,\u001b[0m\u001b[0mdose\u001b[0m\u001b[1;33m,\u001b[0m  \u001b[1;34m'o'\u001b[0m\u001b[1;33m,\u001b[0m \u001b[0mmfc\u001b[0m\u001b[1;33m=\u001b[0m\u001b[1;34m'none'\u001b[0m\u001b[1;33m)\u001b[0m\u001b[1;33m\u001b[0m\u001b[1;33m\u001b[0m\u001b[0m\n",
      "\u001b[1;31mNameError\u001b[0m: name 'LinearRegression' is not defined"
     ]
    }
   ],
   "source": [
    "reg = LinearRegression().fit(size, dose)\n",
    "# reg2 = LinearRegression().fit(size_h, dose)\n",
    "\n",
    "pred_dose = reg.predict(size)\n",
    "plt.plot(size,dose,  'o', mfc='none')\n",
    "plt.plot(size,pred_dose)\n",
    "plt.xlabel('size (dm^3)')\n",
    "plt.ylabel('dose')\n",
    "plt.show()\n",
    "\n",
    "\n",
    "\n",
    "print(reg.coef_,reg.intercept_)"
   ]
  },
  {
   "cell_type": "markdown",
   "metadata": {},
   "source": [
    "#  Save results"
   ]
  },
  {
   "cell_type": "markdown",
   "metadata": {},
   "source": [
    "save results in a list containting al the values for the different size features, obtained from the pictures"
   ]
  },
  {
   "cell_type": "code",
   "execution_count": 52,
   "metadata": {},
   "outputs": [
    {
     "name": "stdout",
     "output_type": "stream",
     "text": [
      "3\n",
      "[0.18768908660888672, 0.18244256904602052, 415.0517883300781]\n"
     ]
    }
   ],
   "source": [
    "### Create pickle file containing size features\n",
    "relev_feats = ['Size',               ## Size of the body, using the filled in pictrure\n",
    "               'Size_hollow',        ## Size of the body without the hollow parts\n",
    "               'Im_mean',\n",
    "              ]            ## Mean value of the pixels in the images\n",
    "\n",
    "\n",
    "importlib.reload(aux)\n",
    "x = []\n",
    "\n",
    "week = 1    \n",
    "weekname = 'week'+str(week)+'data'\n",
    "weekdata = eval(weekname)\n",
    "slicce = week1data['E864M5E16Q'][0][1][0]\n",
    "for feat in relev_feats:\n",
    "    x = x+aux.get_feature_value(slicce,feat)\n",
    "    picture = slicce.pixel_array\n",
    "    \n",
    "p = len(x)\n",
    "print(p)\n",
    "print(x)"
   ]
  },
  {
   "cell_type": "code",
   "execution_count": 45,
   "metadata": {},
   "outputs": [
    {
     "name": "stderr",
     "output_type": "stream",
     "text": [
      "100%|██████████████████████████████████████████████████████████████████████████████████| 14/14 [04:08<00:00, 19.11s/it]\n"
     ]
    }
   ],
   "source": [
    "### Create pickle file containing size features\n",
    "\n",
    "importlib.reload(aux)\n",
    "\n",
    "X = np.empty((0,p))\n",
    "\n",
    "\n",
    "for week in tqdm([1,2,22,23,24,25,3,32,33,4,5,6,7,72]):\n",
    "    Yi = np.empty((0,1))\n",
    "    Xi = np.empty((0,p))\n",
    "    weekname = 'week'+str(week)+'data'\n",
    "    weekdata = eval(weekname)\n",
    "    for scan in list(weekdata.keys()):\n",
    "        for series in list(weekdata[scan][0].keys()):\n",
    "            for slicce in weekdata[scan][0][series]:\n",
    "                x = []\n",
    "                for feat in relev_feats:\n",
    "                    x = x+aux.get_feature_value(slicce,feat)\n",
    "                Xi = np.append(Xi,[np.array(x)],axis=0)\n",
    "    X = np.append(X,Xi,axis=0)\n"
   ]
  },
  {
   "cell_type": "code",
   "execution_count": 47,
   "metadata": {},
   "outputs": [],
   "source": [
    "## save the data\n",
    "with open('data/X_sizes.pickle', 'wb') as f:  # Python 3: open(..., 'wb')\n",
    "    pickle.dump([X], f)\n",
    "    "
   ]
  },
  {
   "cell_type": "code",
   "execution_count": 48,
   "metadata": {},
   "outputs": [
    {
     "data": {
      "text/plain": [
       "array([[1.87689087e-01, 1.82442569e-01, 4.15051788e+02],\n",
       "       [1.93475792e-01, 1.88929607e-01, 4.23391655e+02],\n",
       "       [1.98927868e-01, 1.88104984e-01, 4.32225895e+02],\n",
       "       ...,\n",
       "       [2.67145583e-01, 2.67145583e-01, 4.83718376e+02],\n",
       "       [2.64878591e-01, 2.64632288e-01, 4.76173985e+02],\n",
       "       [2.61852585e-01, 2.61852585e-01, 4.69840424e+02]])"
      ]
     },
     "execution_count": 48,
     "metadata": {},
     "output_type": "execute_result"
    }
   ],
   "source": [
    "X"
   ]
  },
  {
   "cell_type": "markdown",
   "metadata": {},
   "source": [
    "So the size has a positive correlation with the dosis used. The regression line is described by $$dose = reg.coef_ \\cdot size(dm^3)+ reg.intercept_$$"
   ]
  },
  {
   "cell_type": "markdown",
   "metadata": {},
   "source": [
    "TODO\n",
    "- Add function to python file\n",
    "- Add size without hollow parts,\n",
    "- Size off differnt organs (bones, fat, etc.)\n",
    "- function per slice\n",
    "\n",
    "\n",
    "- image quality, high gradients, maybe gradient at boundary of the body\n",
    "\n"
   ]
  }
 ],
 "metadata": {
  "kernelspec": {
   "display_name": "Python 3",
   "language": "python",
   "name": "python3"
  },
  "language_info": {
   "codemirror_mode": {
    "name": "ipython",
    "version": 3
   },
   "file_extension": ".py",
   "mimetype": "text/x-python",
   "name": "python",
   "nbconvert_exporter": "python",
   "pygments_lexer": "ipython3",
   "version": "3.7.1"
  }
 },
 "nbformat": 4,
 "nbformat_minor": 2
}
