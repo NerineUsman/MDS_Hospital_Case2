{
 "cells": [
  {
   "cell_type": "code",
   "execution_count": 1,
   "metadata": {
    "collapsed": true,
    "deletable": true,
    "editable": true
   },
   "outputs": [],
   "source": [
    "# To import the data we need the dicom library\n",
    "import os\n",
    "import numpy as np\n",
    "from matplotlib import pyplot as plt\n",
    "from scipy import ndimage"
   ]
  },
  {
   "cell_type": "code",
   "execution_count": 2,
   "metadata": {
    "collapsed": false,
    "deletable": true,
    "editable": true
   },
   "outputs": [],
   "source": [
    "# authors : Guillaume Lemaitre <g.lemaitre58@gmail.com>\n",
    "# license : MIT\n",
    "\n",
    "from os.path import dirname, join\n",
    "from pprint import pprint\n",
    "\n",
    "import pydicom\n",
    "from pydicom.data import get_testdata_files\n",
    "from pydicom.filereader import read_dicomdir\n",
    "\n",
    "# fetch the path to the test data\n",
    "#filepath = get_testdata_files('DICOMDIR')[0]\n",
    "#print('Path to the DICOM directory: {}'.format(filepath))\n",
    "# load the data\n",
    "\n",
    "def _getstudies(filepath):\n",
    "    filepath = filepath \n",
    "    dicom_dir = read_dicomdir(filepath)\n",
    "    base_dir = dirname(filepath)\n",
    "\n",
    "    allstudies = {}\n",
    "\n",
    "    # go through the patient record and print information\n",
    "    for patient_record in dicom_dir.patient_records:\n",
    "#         if (hasattr(patient_record, 'PatientID') and\n",
    "#                 hasattr(patient_record, 'PatientName')):\n",
    "#             print(\"Patient: {}: {}\".format(patient_record.PatientID,\n",
    "#                                            patient_record.PatientName))\n",
    "        studies = patient_record.children\n",
    "        # got through each serie\n",
    "        for study in studies:\n",
    "#             print(\" \" * 4 + \"Study {}: {}: {}\".format(study.StudyID,\n",
    "#                                                       study.StudyDate,\n",
    "#                                                       study.StudyDescription))\n",
    "            allstudies[study.StudyID] = []\n",
    "            all_series = study.children\n",
    "            # go through each serie\n",
    "            tmpseries = {}\n",
    "            for series in all_series:\n",
    "                image_count = len(series.children)\n",
    "                plural = ('', 's')[image_count > 1]\n",
    "\n",
    "                # Write basic series info and image count\n",
    "\n",
    "                # Put N/A in if no Series Description\n",
    "                if 'SeriesDescription' not in series:\n",
    "                    series.SeriesDescription = \"N/A\"\n",
    "#                 print(\" \" * 8 + \"Series {}: {}: {} ({} image{})\".format(\n",
    "#                     series.SeriesNumber, series.Modality, series.SeriesDescription,\n",
    "#                     image_count, plural))\n",
    "\n",
    "                # Open and read something from each image, for demonstration\n",
    "                # purposes. For simple quick overview of DICOMDIR, leave the\n",
    "                # following out\n",
    "#                 print(\" \" * 12 + \"Reading images...\")\n",
    "                image_records = series.children\n",
    "                image_filenames = [join(base_dir, *image_rec.ReferencedFileID)\n",
    "                                   for image_rec in image_records]\n",
    "\n",
    "                datasets = [pydicom.dcmread(image_filename)\n",
    "                            for image_filename in image_filenames]\n",
    "\n",
    "                patient_names = set(ds.PatientName for ds in datasets)\n",
    "                patient_IDs = set(ds.PatientID for ds in datasets)\n",
    "\n",
    "                # List the image filenames\n",
    "#                 print(\"\\n\" + \" \" * 12 + \"Image filenames:\")\n",
    "#                 print(\" \" * 12, end=' ')\n",
    "                #pprint(image_filenames, indent=12)\n",
    "\n",
    "                # Expect all images to have same patient name, id\n",
    "                # Show the set of all names, IDs found (should each have one)\n",
    "#                 print(\" \" * 12 + \"Patient Names in images..: {}\".format(\n",
    "#                     patient_names))\n",
    "#                 print(\" \" * 12 + \"Patient IDs in images..: {}\".format(\n",
    "#                     patient_IDs))\n",
    "                tmpseries[int(series.SeriesNumber)] = datasets\n",
    "\n",
    "            allstudies[study.StudyID].append(tmpseries)\n",
    "    return allstudies\n",
    "\n",
    "# These are the dicom studies in the dicomdir\n",
    "allstudies = _getstudies(\"Thorax_Abdomen/week1/DICOMDIR\")"
   ]
  },
  {
   "cell_type": "markdown",
   "metadata": {
    "deletable": true,
    "editable": true
   },
   "source": [
    "# Functions to determine size of a patient"
   ]
  },
  {
   "cell_type": "code",
   "execution_count": 3,
   "metadata": {
    "collapsed": true,
    "deletable": true,
    "editable": true
   },
   "outputs": [],
   "source": [
    "def sizeSlice(pixelarray):\n",
    "    ## determines the amount of pixels that are above the threshold for a slice\n",
    "    threshold_mask = pixelarray > 800\n",
    "    tmpmask = ndimage.binary_erosion(threshold_mask,iterations =6)\n",
    "    closedmask = ndimage.binary_fill_holes(tmpmask)\n",
    "    return np.sum(closedmask)      ## # pixels above threshold\n",
    "\n",
    "def sizePatient(patient):\n",
    "    ## gives volume of scanned body in liters\n",
    "    volume = 0\n",
    "    for s in patient:\n",
    "        volume += sizeSlice(s.pixel_array)*s.PixelSpacing[0]*s.PixelSpacing[1]*s.SliceThickness\n",
    "    return volume*10**(-6)\n",
    "\n",
    "##\n",
    "# (0018, 0050) Slice Thickness                     DS: \"5\"\n",
    "# (0028, 0030) Pixel Spacing                       DS: ['0.630859375', '0.630859375']\n",
    "# (0028, 0010) Rows                                US: 512\n",
    "# (0028, 0011) Columns                             US: 512\n",
    "\n",
    "# allstudies['E864M5E14Q'][0][8][100].PixelSpacing[0]\n",
    "# sizePatient(allstudies['E864M5E14Q'][0][8])*10**(-6)"
   ]
  },
  {
   "cell_type": "markdown",
   "metadata": {
    "deletable": true,
    "editable": true
   },
   "source": [
    "Looking at the two patients below, we see that the first person has a volume of 32 dm^3 and the second is a fat lady of 51 dm^3 (only abdomen!), we can see a lot more fat around her belly ;)"
   ]
  },
  {
   "cell_type": "code",
   "execution_count": 4,
   "metadata": {
    "collapsed": false,
    "deletable": true,
    "editable": true,
    "scrolled": false
   },
   "outputs": [
    {
     "data": {
      "text/plain": [
       "32.303050046081545"
      ]
     },
     "execution_count": 4,
     "metadata": {},
     "output_type": "execute_result"
    }
   ],
   "source": [
    "\n",
    "plt.imshow(allstudies['E864M5E16Q'][0][1][80].pixel_array)\n",
    "sizePatient(allstudies['E864M5E16Q'][0][1])\n"
   ]
  },
  {
   "cell_type": "code",
   "execution_count": 5,
   "metadata": {
    "collapsed": false,
    "deletable": true,
    "editable": true
   },
   "outputs": [
    {
     "data": {
      "text/plain": [
       "51.51262968841552"
      ]
     },
     "execution_count": 5,
     "metadata": {},
     "output_type": "execute_result"
    }
   ],
   "source": [
    "plt.imshow(allstudies['E864M5E17Q'][0][7][80].pixel_array)\n",
    "sizePatient(allstudies['E864M5E17Q'][0][7])"
   ]
  },
  {
   "cell_type": "markdown",
   "metadata": {
    "deletable": true,
    "editable": true
   },
   "source": [
    "# Effect size on dosis"
   ]
  },
  {
   "cell_type": "code",
   "execution_count": 7,
   "metadata": {
    "collapsed": true,
    "deletable": true,
    "editable": true
   },
   "outputs": [],
   "source": [
    "from sklearn.linear_model import LinearRegression\n",
    "from tqdm import tqdm"
   ]
  },
  {
   "cell_type": "code",
   "execution_count": 8,
   "metadata": {
    "collapsed": false,
    "deletable": true,
    "editable": true
   },
   "outputs": [
    {
     "name": "stderr",
     "output_type": "stream",
     "text": [
      "100%|██████████| 14/14 [02:30<00:00, 10.52s/it]\n"
     ]
    }
   ],
   "source": [
    "basedir = \"Thorax_Abdomen/\"\n",
    "ctdatadir = os.listdir(basedir)\n",
    "\n",
    "doseoverview = {}\n",
    "sizeoverview = {}\n",
    "\n",
    "for tmpdata in tqdm(ctdatadir):\n",
    "    weekstudies = _getstudies(os.path.join(basedir,tmpdata,\"DICOMDIR\"))\n",
    "    for key in weekstudies.keys():\n",
    "        tmpstudy = weekstudies[key][0]\n",
    "        if len(tmpstudy.keys()) > 1:\n",
    "            print (\"More than 1 study for this patient!\")\n",
    "            break\n",
    "            \n",
    "        seriesid = list(tmpstudy.keys())\n",
    "#         print(seriesid)\n",
    "        seriesid = seriesid[0]\n",
    "        doseoverview[key] = tmpstudy[seriesid][0].CTDIvol\n",
    "        \n",
    "        sizeoverview[key] = sizePatient(tmpstudy[seriesid])\n",
    "        \n",
    "        "
   ]
  },
  {
   "cell_type": "markdown",
   "metadata": {
    "deletable": true,
    "editable": true
   },
   "source": [
    "In the above code we load all the dose values and sizes of each patient."
   ]
  },
  {
   "cell_type": "code",
   "execution_count": 9,
   "metadata": {
    "collapsed": true,
    "deletable": true,
    "editable": true
   },
   "outputs": [],
   "source": [
    "size = []\n",
    "dose = []\n",
    "\n",
    "for key in iter(doseoverview):\n",
    "    size.append(sizeoverview[key])\n",
    "    dose.append(doseoverview[key])\n",
    "\n",
    "size = np.array(size).reshape(-1, 1)\n",
    "dose = np.array(dose).reshape(-1, 1)"
   ]
  },
  {
   "cell_type": "code",
   "execution_count": 12,
   "metadata": {
    "collapsed": false,
    "deletable": true,
    "editable": true
   },
   "outputs": [
    {
     "data": {
      "image/png": "[encoded data removed]",
      "text/plain": [
       "<matplotlib.figure.Figure at 0x16d9b49b0>"
      ]
     },
     "metadata": {},
     "output_type": "display_data"
    },
    {
     "name": "stdout",
     "output_type": "stream",
     "text": [
      "[[0.11423287]] [2.66675503]\n"
     ]
    }
   ],
   "source": [
    "reg = LinearRegression().fit(size, dose)\n",
    "\n",
    "pred_dose = reg.predict(size)\n",
    "plt.plot(size,dose,'*')\n",
    "plt.plot(size,pred_dose)\n",
    "plt.xlabel('size (dm^3)')\n",
    "plt.ylabel('dose')\n",
    "plt.show()\n",
    "\n",
    "\n",
    "print(reg.coef_,reg.intercept_)"
   ]
  },
  {
   "cell_type": "markdown",
   "metadata": {
    "deletable": true,
    "editable": true
   },
   "source": [
    "So the size has a positive correlation with the dosis used. The regression line is described by $$dose = 0.11423287 \\cdot size(dm^3)+ 2.66675503 $$"
   ]
  },
  {
   "cell_type": "code",
   "execution_count": null,
   "metadata": {
    "collapsed": true,
    "deletable": true,
    "editable": true
   },
   "outputs": [],
   "source": []
  }
 ],
 "metadata": {
  "kernelspec": {
   "display_name": "Python 3",
   "language": "python",
   "name": "python3"
  },
  "language_info": {
   "codemirror_mode": {
    "name": "ipython",
    "version": 3
   },
   "file_extension": ".py",
   "mimetype": "text/x-python",
   "name": "python",
   "nbconvert_exporter": "python",
   "pygments_lexer": "ipython3",
   "version": "3.6.0"
  }
 },
 "nbformat": 4,
 "nbformat_minor": 2
}
